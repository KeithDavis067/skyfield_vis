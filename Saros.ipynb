{
 "cells": [
  {
   "cell_type": "code",
   "execution_count": 1,
   "id": "4e1c6b72-de22-4fc3-8276-0b2962be2a39",
   "metadata": {},
   "outputs": [],
   "source": [
    "import plotly.express as px\n",
    "import plotly.graph_objects as go\n",
    "import numpy as np\n",
    "import pandas as pd\n",
    "from skyfield.api import load\n",
    "from skyfield import almanac\n",
    "from skyfield import units\n",
    "from skyfield.elementslib import osculating_elements_of\n",
    "\n",
    "planets = load('de421.bsp')"
   ]
  },
  {
   "cell_type": "code",
   "execution_count": 2,
   "id": "b68eb6ea-86a9-41fc-a163-cad69b50f542",
   "metadata": {},
   "outputs": [
    {
     "name": "stdout",
     "output_type": "stream",
     "text": [
      "SPICE kernel file 'de421.bsp' has 15 segments\n",
      "  JD 2414864.50 - JD 2471184.50  (1899-07-28 through 2053-10-08)\n",
      "      0 -> 1    SOLAR SYSTEM BARYCENTER -> MERCURY BARYCENTER\n",
      "      0 -> 2    SOLAR SYSTEM BARYCENTER -> VENUS BARYCENTER\n",
      "      0 -> 3    SOLAR SYSTEM BARYCENTER -> EARTH BARYCENTER\n",
      "      0 -> 4    SOLAR SYSTEM BARYCENTER -> MARS BARYCENTER\n",
      "      0 -> 5    SOLAR SYSTEM BARYCENTER -> JUPITER BARYCENTER\n",
      "      0 -> 6    SOLAR SYSTEM BARYCENTER -> SATURN BARYCENTER\n",
      "      0 -> 7    SOLAR SYSTEM BARYCENTER -> URANUS BARYCENTER\n",
      "      0 -> 8    SOLAR SYSTEM BARYCENTER -> NEPTUNE BARYCENTER\n",
      "      0 -> 9    SOLAR SYSTEM BARYCENTER -> PLUTO BARYCENTER\n",
      "      0 -> 10   SOLAR SYSTEM BARYCENTER -> SUN\n",
      "      3 -> 301  EARTH BARYCENTER -> MOON\n",
      "      3 -> 399  EARTH BARYCENTER -> EARTH\n",
      "      1 -> 199  MERCURY BARYCENTER -> MERCURY\n",
      "      2 -> 299  VENUS BARYCENTER -> VENUS\n",
      "      4 -> 499  MARS BARYCENTER -> MARS\n"
     ]
    }
   ],
   "source": [
    "earth = planets[\"earth\"]\n",
    "moon = planets[\"moon\"]\n",
    "sun = planets[\"sun\"]\n",
    "m_to_e = moon - earth\n",
    "print(planets)\n",
    "ts = load.timescale()\n",
    "t_now = ts.now()\n",
    "r_moon = units.Distance(km=1737.4)\n",
    "r_earth = units.Distance(km=6378)\n",
    "r_sun = units.Distance(km=695700)"
   ]
  },
  {
   "cell_type": "code",
   "execution_count": 3,
   "id": "2193d3bf-1b09-436b-8f42-70a800e61b6c",
   "metadata": {},
   "outputs": [],
   "source": [
    "t = ts.utc(2023, 1, np.arange(365))"
   ]
  },
  {
   "cell_type": "code",
   "execution_count": 4,
   "id": "add97c46-5232-4b14-90ab-5a6dba354e3b",
   "metadata": {},
   "outputs": [
    {
     "data": {
      "text/plain": [
       "<function skyfield.almanac.moon_nodes(ephemeris)>"
      ]
     },
     "execution_count": 4,
     "metadata": {},
     "output_type": "execute_result"
    }
   ],
   "source": [
    "earth.observe(sun)."
   ]
  },
  {
   "cell_type": "code",
   "execution_count": null,
   "id": "d980c70c-a927-4838-988f-4e952f400a74",
   "metadata": {},
   "outputs": [],
   "source": []
  }
 ],
 "metadata": {
  "kernelspec": {
   "display_name": "Python 3 (ipykernel)",
   "language": "python",
   "name": "python3"
  },
  "language_info": {
   "codemirror_mode": {
    "name": "ipython",
    "version": 3
   },
   "file_extension": ".py",
   "mimetype": "text/x-python",
   "name": "python",
   "nbconvert_exporter": "python",
   "pygments_lexer": "ipython3",
   "version": "3.12.2"
  }
 },
 "nbformat": 4,
 "nbformat_minor": 5
}
