{
 "cells": [
  {
   "cell_type": "code",
   "execution_count": 10,
   "id": "11d18655-179e-4013-b356-546c53b9e294",
   "metadata": {},
   "outputs": [],
   "source": [
    "import plotly.express as px\n",
    "import plotly.graph_objects as go\n",
    "from plotly.subplots import make_subplots\n",
    "import numpy as np\n",
    "import pandas as pd\n",
    "from skyfield.api import load\n",
    "from skyfield import almanac\n",
    "from skyfield import units\n",
    "from skyfield.elementslib import osculating_elements_of\n",
    "\n",
    "planets = load('de421.bsp')"
   ]
  },
  {
   "cell_type": "code",
   "execution_count": 11,
   "id": "6b99dcbe-aeeb-4be1-b784-f247cdfec407",
   "metadata": {},
   "outputs": [
    {
     "name": "stdout",
     "output_type": "stream",
     "text": [
      "SPICE kernel file 'de421.bsp' has 15 segments\n",
      "  JD 2414864.50 - JD 2471184.50  (1899-07-28 through 2053-10-08)\n",
      "      0 -> 1    SOLAR SYSTEM BARYCENTER -> MERCURY BARYCENTER\n",
      "      0 -> 2    SOLAR SYSTEM BARYCENTER -> VENUS BARYCENTER\n",
      "      0 -> 3    SOLAR SYSTEM BARYCENTER -> EARTH BARYCENTER\n",
      "      0 -> 4    SOLAR SYSTEM BARYCENTER -> MARS BARYCENTER\n",
      "      0 -> 5    SOLAR SYSTEM BARYCENTER -> JUPITER BARYCENTER\n",
      "      0 -> 6    SOLAR SYSTEM BARYCENTER -> SATURN BARYCENTER\n",
      "      0 -> 7    SOLAR SYSTEM BARYCENTER -> URANUS BARYCENTER\n",
      "      0 -> 8    SOLAR SYSTEM BARYCENTER -> NEPTUNE BARYCENTER\n",
      "      0 -> 9    SOLAR SYSTEM BARYCENTER -> PLUTO BARYCENTER\n",
      "      0 -> 10   SOLAR SYSTEM BARYCENTER -> SUN\n",
      "      3 -> 301  EARTH BARYCENTER -> MOON\n",
      "      3 -> 399  EARTH BARYCENTER -> EARTH\n",
      "      1 -> 199  MERCURY BARYCENTER -> MERCURY\n",
      "      2 -> 299  VENUS BARYCENTER -> VENUS\n",
      "      4 -> 499  MARS BARYCENTER -> MARS\n"
     ]
    }
   ],
   "source": [
    "earth = planets[\"earth\"]\n",
    "moon = planets[\"moon\"]\n",
    "sun = planets[\"sun\"]\n",
    "m_to_e = moon - earth\n",
    "s_to_e = sun - earth\n",
    "print(planets)\n",
    "ts = load.timescale()\n",
    "t_now = ts.now()\n",
    "r_moon = units.Distance(km=1737.4)\n",
    "r_earth = units.Distance(km=6378)\n",
    "r_sun = units.Distance(km=695700)"
   ]
  },
  {
   "cell_type": "code",
   "execution_count": 12,
   "id": "5da17c8a-4637-4e97-9512-1ea9efe4dc3f",
   "metadata": {},
   "outputs": [],
   "source": [
    "t = ts.utc(2023, 7, np.arange(365))\n",
    "phases = almanac.find_discrete(ts.utc(2023, 7, 1),ts.utc(2024, 7, 1), almanac.moon_phases(planets))\n",
    "# phases = dict(zip(phases[0], phases[1]))\n",
    "news = phases[0][phases[1]==0]"
   ]
  },
  {
   "cell_type": "code",
   "execution_count": 13,
   "id": "6b5a4304-0deb-4dca-91d8-121f0a9f3b83",
   "metadata": {},
   "outputs": [
    {
     "data": {
      "text/plain": [
       "<Time tt=[2460143.2729093735 ... 2460468.027007889] len=12>"
      ]
     },
     "execution_count": 13,
     "metadata": {},
     "output_type": "execute_result"
    }
   ],
   "source": [
    "news"
   ]
  },
  {
   "cell_type": "code",
   "execution_count": 14,
   "id": "dd12de6d-be22-4d57-ad77-526c72dbf5b3",
   "metadata": {},
   "outputs": [],
   "source": [
    "sun_at_news = s_to_e.at(news)\n",
    "moon_at_news = m_to_e.at(news)\n",
    "e_lat_sun, e_lon_sun, d_sun = s_to_e.at(news).ecliptic_latlon()\n",
    "e_lat_moon, e_lon_moon, d_moon = m_to_e.at(news).ecliptic_latlon()"
   ]
  },
  {
   "cell_type": "code",
   "execution_count": 15,
   "id": "9ffb3ac2-8da1-41b0-a667-7048d34f2581",
   "metadata": {},
   "outputs": [],
   "source": [
    "ang_sun = 2*np.arctan(r_sun.km / d_sun.km) * 180 / np.pi\n",
    "ang_moon = 2*np.arctan(r_moon.km / d_moon.km) * 180 / np.pi"
   ]
  },
  {
   "cell_type": "code",
   "execution_count": 16,
   "id": "ba50c6de-6afe-4c13-a6c3-9e3043546fa7",
   "metadata": {},
   "outputs": [
    {
     "data": {
      "application/vnd.plotly.v1+json": {
       "config": {
        "plotlyServerURL": "https://plot.ly"
       },
       "data": [
        {
         "marker": {
          "size": [
           13.107637366829222,
           13.154842525006169,
           13.244434420065385,
           13.355796261937686,
           13.460877095971291,
           13.53106958392391,
           13.546361224283357,
           13.502630271940639,
           13.41298675488388,
           13.30245505302068,
           13.199355283473265,
           13.127792840716973
          ]
         },
         "mode": "markers",
         "name": "sun",
         "type": "scatter",
         "x": [
          "2023-07-17T18:31:50.185871+00:00",
          "2023-08-16T09:38:11.248057+00:00",
          "2023-09-15T01:39:48.674230+00:00",
          "2023-10-14T17:55:09.190085+00:00",
          "2023-11-13T09:27:24.176210+00:00",
          "2023-12-12T23:32:02.128045+00:00",
          "2024-01-11T11:57:24.567343+00:00",
          "2024-02-09T22:59:10.865432+00:00",
          "2024-03-10T09:00:26.287218+00:00",
          "2024-04-08T18:20:51.550739+00:00",
          "2024-05-08T03:21:56.104684+00:00",
          "2024-06-06T12:37:44.297610+00:00"
         ],
         "y": [
          -0.0024478620873531307,
          -0.0014117861044787583,
          1.9988902203933292e-05,
          0.0014907616912552353,
          0.002611331835504824,
          0.0030663119349495526,
          0.002714503585427222,
          0.001646938910407873,
          0.0001579102278324686,
          -0.0013538869255710973,
          -0.002513985492334257,
          -0.0030635742895834773
         ]
        },
        {
         "marker": {
          "size": [
           12.320890113129378,
           12.240209290987941,
           12.313700077933666,
           12.536286453123669,
           12.87520982975481,
           13.26749688989054,
           13.628697916108152,
           13.873997375256094,
           13.94571047004915,
           13.833090721590965,
           13.571648416893806,
           13.22439480537454
          ]
         },
         "mode": "markers",
         "name": "moon",
         "type": "scatter",
         "x": [
          "2023-07-17T18:31:50.185871+00:00",
          "2023-08-16T09:38:11.248057+00:00",
          "2023-09-15T01:39:48.674230+00:00",
          "2023-10-14T17:55:09.190085+00:00",
          "2023-11-13T09:27:24.176210+00:00",
          "2023-12-12T23:32:02.128045+00:00",
          "2024-01-11T11:57:24.567343+00:00",
          "2024-02-09T22:59:10.865432+00:00",
          "2024-03-10T09:00:26.287218+00:00",
          "2024-04-08T18:20:51.550739+00:00",
          "2024-05-08T03:21:56.104684+00:00",
          "2024-06-06T12:37:44.297610+00:00"
         ],
         "y": [
          4.969123417857827,
          4.519505256043266,
          2.844643917724569,
          0.34777515511737694,
          -2.2862637126642364,
          -4.271484197835379,
          -4.995899555548065,
          -4.241806936823051,
          -2.2555486820144726,
          0.34804251978414413,
          2.8137336227574012,
          4.493908163285643
         ]
        }
       ],
       "layout": {
        "autosize": true,
        "template": {
         "data": {
          "bar": [
           {
            "error_x": {
             "color": "#2a3f5f"
            },
            "error_y": {
             "color": "#2a3f5f"
            },
            "marker": {
             "line": {
              "color": "#E5ECF6",
              "width": 0.5
             },
             "pattern": {
              "fillmode": "overlay",
              "size": 10,
              "solidity": 0.2
             }
            },
            "type": "bar"
           }
          ],
          "barpolar": [
           {
            "marker": {
             "line": {
              "color": "#E5ECF6",
              "width": 0.5
             },
             "pattern": {
              "fillmode": "overlay",
              "size": 10,
              "solidity": 0.2
             }
            },
            "type": "barpolar"
           }
          ],
          "carpet": [
           {
            "aaxis": {
             "endlinecolor": "#2a3f5f",
             "gridcolor": "white",
             "linecolor": "white",
             "minorgridcolor": "white",
             "startlinecolor": "#2a3f5f"
            },
            "baxis": {
             "endlinecolor": "#2a3f5f",
             "gridcolor": "white",
             "linecolor": "white",
             "minorgridcolor": "white",
             "startlinecolor": "#2a3f5f"
            },
            "type": "carpet"
           }
          ],
          "choropleth": [
           {
            "colorbar": {
             "outlinewidth": 0,
             "ticks": ""
            },
            "type": "choropleth"
           }
          ],
          "contour": [
           {
            "colorbar": {
             "outlinewidth": 0,
             "ticks": ""
            },
            "colorscale": [
             [
              0,
              "#0d0887"
             ],
             [
              0.1111111111111111,
              "#46039f"
             ],
             [
              0.2222222222222222,
              "#7201a8"
             ],
             [
              0.3333333333333333,
              "#9c179e"
             ],
             [
              0.4444444444444444,
              "#bd3786"
             ],
             [
              0.5555555555555556,
              "#d8576b"
             ],
             [
              0.6666666666666666,
              "#ed7953"
             ],
             [
              0.7777777777777778,
              "#fb9f3a"
             ],
             [
              0.8888888888888888,
              "#fdca26"
             ],
             [
              1,
              "#f0f921"
             ]
            ],
            "type": "contour"
           }
          ],
          "contourcarpet": [
           {
            "colorbar": {
             "outlinewidth": 0,
             "ticks": ""
            },
            "type": "contourcarpet"
           }
          ],
          "heatmap": [
           {
            "colorbar": {
             "outlinewidth": 0,
             "ticks": ""
            },
            "colorscale": [
             [
              0,
              "#0d0887"
             ],
             [
              0.1111111111111111,
              "#46039f"
             ],
             [
              0.2222222222222222,
              "#7201a8"
             ],
             [
              0.3333333333333333,
              "#9c179e"
             ],
             [
              0.4444444444444444,
              "#bd3786"
             ],
             [
              0.5555555555555556,
              "#d8576b"
             ],
             [
              0.6666666666666666,
              "#ed7953"
             ],
             [
              0.7777777777777778,
              "#fb9f3a"
             ],
             [
              0.8888888888888888,
              "#fdca26"
             ],
             [
              1,
              "#f0f921"
             ]
            ],
            "type": "heatmap"
           }
          ],
          "heatmapgl": [
           {
            "colorbar": {
             "outlinewidth": 0,
             "ticks": ""
            },
            "colorscale": [
             [
              0,
              "#0d0887"
             ],
             [
              0.1111111111111111,
              "#46039f"
             ],
             [
              0.2222222222222222,
              "#7201a8"
             ],
             [
              0.3333333333333333,
              "#9c179e"
             ],
             [
              0.4444444444444444,
              "#bd3786"
             ],
             [
              0.5555555555555556,
              "#d8576b"
             ],
             [
              0.6666666666666666,
              "#ed7953"
             ],
             [
              0.7777777777777778,
              "#fb9f3a"
             ],
             [
              0.8888888888888888,
              "#fdca26"
             ],
             [
              1,
              "#f0f921"
             ]
            ],
            "type": "heatmapgl"
           }
          ],
          "histogram": [
           {
            "marker": {
             "pattern": {
              "fillmode": "overlay",
              "size": 10,
              "solidity": 0.2
             }
            },
            "type": "histogram"
           }
          ],
          "histogram2d": [
           {
            "colorbar": {
             "outlinewidth": 0,
             "ticks": ""
            },
            "colorscale": [
             [
              0,
              "#0d0887"
             ],
             [
              0.1111111111111111,
              "#46039f"
             ],
             [
              0.2222222222222222,
              "#7201a8"
             ],
             [
              0.3333333333333333,
              "#9c179e"
             ],
             [
              0.4444444444444444,
              "#bd3786"
             ],
             [
              0.5555555555555556,
              "#d8576b"
             ],
             [
              0.6666666666666666,
              "#ed7953"
             ],
             [
              0.7777777777777778,
              "#fb9f3a"
             ],
             [
              0.8888888888888888,
              "#fdca26"
             ],
             [
              1,
              "#f0f921"
             ]
            ],
            "type": "histogram2d"
           }
          ],
          "histogram2dcontour": [
           {
            "colorbar": {
             "outlinewidth": 0,
             "ticks": ""
            },
            "colorscale": [
             [
              0,
              "#0d0887"
             ],
             [
              0.1111111111111111,
              "#46039f"
             ],
             [
              0.2222222222222222,
              "#7201a8"
             ],
             [
              0.3333333333333333,
              "#9c179e"
             ],
             [
              0.4444444444444444,
              "#bd3786"
             ],
             [
              0.5555555555555556,
              "#d8576b"
             ],
             [
              0.6666666666666666,
              "#ed7953"
             ],
             [
              0.7777777777777778,
              "#fb9f3a"
             ],
             [
              0.8888888888888888,
              "#fdca26"
             ],
             [
              1,
              "#f0f921"
             ]
            ],
            "type": "histogram2dcontour"
           }
          ],
          "mesh3d": [
           {
            "colorbar": {
             "outlinewidth": 0,
             "ticks": ""
            },
            "type": "mesh3d"
           }
          ],
          "parcoords": [
           {
            "line": {
             "colorbar": {
              "outlinewidth": 0,
              "ticks": ""
             }
            },
            "type": "parcoords"
           }
          ],
          "pie": [
           {
            "automargin": true,
            "type": "pie"
           }
          ],
          "scatter": [
           {
            "fillpattern": {
             "fillmode": "overlay",
             "size": 10,
             "solidity": 0.2
            },
            "type": "scatter"
           }
          ],
          "scatter3d": [
           {
            "line": {
             "colorbar": {
              "outlinewidth": 0,
              "ticks": ""
             }
            },
            "marker": {
             "colorbar": {
              "outlinewidth": 0,
              "ticks": ""
             }
            },
            "type": "scatter3d"
           }
          ],
          "scattercarpet": [
           {
            "marker": {
             "colorbar": {
              "outlinewidth": 0,
              "ticks": ""
             }
            },
            "type": "scattercarpet"
           }
          ],
          "scattergeo": [
           {
            "marker": {
             "colorbar": {
              "outlinewidth": 0,
              "ticks": ""
             }
            },
            "type": "scattergeo"
           }
          ],
          "scattergl": [
           {
            "marker": {
             "colorbar": {
              "outlinewidth": 0,
              "ticks": ""
             }
            },
            "type": "scattergl"
           }
          ],
          "scattermapbox": [
           {
            "marker": {
             "colorbar": {
              "outlinewidth": 0,
              "ticks": ""
             }
            },
            "type": "scattermapbox"
           }
          ],
          "scatterpolar": [
           {
            "marker": {
             "colorbar": {
              "outlinewidth": 0,
              "ticks": ""
             }
            },
            "type": "scatterpolar"
           }
          ],
          "scatterpolargl": [
           {
            "marker": {
             "colorbar": {
              "outlinewidth": 0,
              "ticks": ""
             }
            },
            "type": "scatterpolargl"
           }
          ],
          "scatterternary": [
           {
            "marker": {
             "colorbar": {
              "outlinewidth": 0,
              "ticks": ""
             }
            },
            "type": "scatterternary"
           }
          ],
          "surface": [
           {
            "colorbar": {
             "outlinewidth": 0,
             "ticks": ""
            },
            "colorscale": [
             [
              0,
              "#0d0887"
             ],
             [
              0.1111111111111111,
              "#46039f"
             ],
             [
              0.2222222222222222,
              "#7201a8"
             ],
             [
              0.3333333333333333,
              "#9c179e"
             ],
             [
              0.4444444444444444,
              "#bd3786"
             ],
             [
              0.5555555555555556,
              "#d8576b"
             ],
             [
              0.6666666666666666,
              "#ed7953"
             ],
             [
              0.7777777777777778,
              "#fb9f3a"
             ],
             [
              0.8888888888888888,
              "#fdca26"
             ],
             [
              1,
              "#f0f921"
             ]
            ],
            "type": "surface"
           }
          ],
          "table": [
           {
            "cells": {
             "fill": {
              "color": "#EBF0F8"
             },
             "line": {
              "color": "white"
             }
            },
            "header": {
             "fill": {
              "color": "#C8D4E3"
             },
             "line": {
              "color": "white"
             }
            },
            "type": "table"
           }
          ]
         },
         "layout": {
          "annotationdefaults": {
           "arrowcolor": "#2a3f5f",
           "arrowhead": 0,
           "arrowwidth": 1
          },
          "autotypenumbers": "strict",
          "coloraxis": {
           "colorbar": {
            "outlinewidth": 0,
            "ticks": ""
           }
          },
          "colorscale": {
           "diverging": [
            [
             0,
             "#8e0152"
            ],
            [
             0.1,
             "#c51b7d"
            ],
            [
             0.2,
             "#de77ae"
            ],
            [
             0.3,
             "#f1b6da"
            ],
            [
             0.4,
             "#fde0ef"
            ],
            [
             0.5,
             "#f7f7f7"
            ],
            [
             0.6,
             "#e6f5d0"
            ],
            [
             0.7,
             "#b8e186"
            ],
            [
             0.8,
             "#7fbc41"
            ],
            [
             0.9,
             "#4d9221"
            ],
            [
             1,
             "#276419"
            ]
           ],
           "sequential": [
            [
             0,
             "#0d0887"
            ],
            [
             0.1111111111111111,
             "#46039f"
            ],
            [
             0.2222222222222222,
             "#7201a8"
            ],
            [
             0.3333333333333333,
             "#9c179e"
            ],
            [
             0.4444444444444444,
             "#bd3786"
            ],
            [
             0.5555555555555556,
             "#d8576b"
            ],
            [
             0.6666666666666666,
             "#ed7953"
            ],
            [
             0.7777777777777778,
             "#fb9f3a"
            ],
            [
             0.8888888888888888,
             "#fdca26"
            ],
            [
             1,
             "#f0f921"
            ]
           ],
           "sequentialminus": [
            [
             0,
             "#0d0887"
            ],
            [
             0.1111111111111111,
             "#46039f"
            ],
            [
             0.2222222222222222,
             "#7201a8"
            ],
            [
             0.3333333333333333,
             "#9c179e"
            ],
            [
             0.4444444444444444,
             "#bd3786"
            ],
            [
             0.5555555555555556,
             "#d8576b"
            ],
            [
             0.6666666666666666,
             "#ed7953"
            ],
            [
             0.7777777777777778,
             "#fb9f3a"
            ],
            [
             0.8888888888888888,
             "#fdca26"
            ],
            [
             1,
             "#f0f921"
            ]
           ]
          },
          "colorway": [
           "#636efa",
           "#EF553B",
           "#00cc96",
           "#ab63fa",
           "#FFA15A",
           "#19d3f3",
           "#FF6692",
           "#B6E880",
           "#FF97FF",
           "#FECB52"
          ],
          "font": {
           "color": "#2a3f5f"
          },
          "geo": {
           "bgcolor": "white",
           "lakecolor": "white",
           "landcolor": "#E5ECF6",
           "showlakes": true,
           "showland": true,
           "subunitcolor": "white"
          },
          "hoverlabel": {
           "align": "left"
          },
          "hovermode": "closest",
          "mapbox": {
           "style": "light"
          },
          "paper_bgcolor": "white",
          "plot_bgcolor": "#E5ECF6",
          "polar": {
           "angularaxis": {
            "gridcolor": "white",
            "linecolor": "white",
            "ticks": ""
           },
           "bgcolor": "#E5ECF6",
           "radialaxis": {
            "gridcolor": "white",
            "linecolor": "white",
            "ticks": ""
           }
          },
          "scene": {
           "xaxis": {
            "backgroundcolor": "#E5ECF6",
            "gridcolor": "white",
            "gridwidth": 2,
            "linecolor": "white",
            "showbackground": true,
            "ticks": "",
            "zerolinecolor": "white"
           },
           "yaxis": {
            "backgroundcolor": "#E5ECF6",
            "gridcolor": "white",
            "gridwidth": 2,
            "linecolor": "white",
            "showbackground": true,
            "ticks": "",
            "zerolinecolor": "white"
           },
           "zaxis": {
            "backgroundcolor": "#E5ECF6",
            "gridcolor": "white",
            "gridwidth": 2,
            "linecolor": "white",
            "showbackground": true,
            "ticks": "",
            "zerolinecolor": "white"
           }
          },
          "shapedefaults": {
           "line": {
            "color": "#2a3f5f"
           }
          },
          "ternary": {
           "aaxis": {
            "gridcolor": "white",
            "linecolor": "white",
            "ticks": ""
           },
           "baxis": {
            "gridcolor": "white",
            "linecolor": "white",
            "ticks": ""
           },
           "bgcolor": "#E5ECF6",
           "caxis": {
            "gridcolor": "white",
            "linecolor": "white",
            "ticks": ""
           }
          },
          "title": {
           "x": 0.05
          },
          "xaxis": {
           "automargin": true,
           "gridcolor": "white",
           "linecolor": "white",
           "ticks": "",
           "title": {
            "standoff": 15
           },
           "zerolinecolor": "white",
           "zerolinewidth": 2
          },
          "yaxis": {
           "automargin": true,
           "gridcolor": "white",
           "linecolor": "white",
           "ticks": "",
           "title": {
            "standoff": 15
           },
           "zerolinecolor": "white",
           "zerolinewidth": 2
          }
         }
        },
        "xaxis": {
         "autorange": true,
         "range": [
          "2023-06-26 18:19:47.5718",
          "2024-06-27 13:24:00.7339"
         ],
         "type": "date"
        },
        "yaxis": {
         "range": [
          -10,
          10
         ],
         "type": "linear"
        }
       }
      },
      "image/png": "[encoded data removed]",
      "text/html": [
       "<div>                            <div id=\"bef450f4-ff4c-4420-a068-d9746eefc6b2\" class=\"plotly-graph-div\" style=\"height:500px; width:100%;\"></div>            <script type=\"text/javascript\">                require([\"plotly\"], function(Plotly) {                    window.PLOTLYENV=window.PLOTLYENV || {};                                    if (document.getElementById(\"bef450f4-ff4c-4420-a068-d9746eefc6b2\")) {                    Plotly.newPlot(                        \"bef450f4-ff4c-4420-a068-d9746eefc6b2\",                        [{\"mode\":\"markers\",\"name\":\"sun\",\"x\":[\"2023-07-17T18:31:50.185871+00:00\",\"2023-08-16T09:38:11.248057+00:00\",\"2023-09-15T01:39:48.674230+00:00\",\"2023-10-14T17:55:09.190085+00:00\",\"2023-11-13T09:27:24.176210+00:00\",\"2023-12-12T23:32:02.128045+00:00\",\"2024-01-11T11:57:24.567343+00:00\",\"2024-02-09T22:59:10.865432+00:00\",\"2024-03-10T09:00:26.287218+00:00\",\"2024-04-08T18:20:51.550739+00:00\",\"2024-05-08T03:21:56.104684+00:00\",\"2024-06-06T12:37:44.297610+00:00\"],\"y\":[-0.0024478620873531307,-0.0014117861044787583,1.9988902203933292e-05,0.0014907616912552353,0.002611331835504824,0.0030663119349495526,0.002714503585427222,0.001646938910407873,0.0001579102278324686,-0.0013538869255710973,-0.002513985492334257,-0.0030635742895834773],\"type\":\"scatter\",\"marker\":{\"size\":[13.107637366829222,13.154842525006169,13.244434420065385,13.355796261937686,13.460877095971291,13.53106958392391,13.546361224283357,13.502630271940639,13.41298675488388,13.30245505302068,13.199355283473265,13.127792840716973]}},{\"mode\":\"markers\",\"name\":\"moon\",\"x\":[\"2023-07-17T18:31:50.185871+00:00\",\"2023-08-16T09:38:11.248057+00:00\",\"2023-09-15T01:39:48.674230+00:00\",\"2023-10-14T17:55:09.190085+00:00\",\"2023-11-13T09:27:24.176210+00:00\",\"2023-12-12T23:32:02.128045+00:00\",\"2024-01-11T11:57:24.567343+00:00\",\"2024-02-09T22:59:10.865432+00:00\",\"2024-03-10T09:00:26.287218+00:00\",\"2024-04-08T18:20:51.550739+00:00\",\"2024-05-08T03:21:56.104684+00:00\",\"2024-06-06T12:37:44.297610+00:00\"],\"y\":[4.969123417857827,4.519505256043266,2.844643917724569,0.34777515511737694,-2.2862637126642364,-4.271484197835379,-4.995899555548065,-4.241806936823051,-2.2555486820144726,0.34804251978414413,2.8137336227574012,4.493908163285643],\"type\":\"scatter\",\"marker\":{\"size\":[12.320890113129378,12.240209290987941,12.313700077933666,12.536286453123669,12.87520982975481,13.26749688989054,13.628697916108152,13.873997375256094,13.94571047004915,13.833090721590965,13.571648416893806,13.22439480537454]}}],                        {\"template\":{\"data\":{\"histogram2dcontour\":[{\"type\":\"histogram2dcontour\",\"colorbar\":{\"outlinewidth\":0,\"ticks\":\"\"},\"colorscale\":[[0.0,\"#0d0887\"],[0.1111111111111111,\"#46039f\"],[0.2222222222222222,\"#7201a8\"],[0.3333333333333333,\"#9c179e\"],[0.4444444444444444,\"#bd3786\"],[0.5555555555555556,\"#d8576b\"],[0.6666666666666666,\"#ed7953\"],[0.7777777777777778,\"#fb9f3a\"],[0.8888888888888888,\"#fdca26\"],[1.0,\"#f0f921\"]]}],\"choropleth\":[{\"type\":\"choropleth\",\"colorbar\":{\"outlinewidth\":0,\"ticks\":\"\"}}],\"histogram2d\":[{\"type\":\"histogram2d\",\"colorbar\":{\"outlinewidth\":0,\"ticks\":\"\"},\"colorscale\":[[0.0,\"#0d0887\"],[0.1111111111111111,\"#46039f\"],[0.2222222222222222,\"#7201a8\"],[0.3333333333333333,\"#9c179e\"],[0.4444444444444444,\"#bd3786\"],[0.5555555555555556,\"#d8576b\"],[0.6666666666666666,\"#ed7953\"],[0.7777777777777778,\"#fb9f3a\"],[0.8888888888888888,\"#fdca26\"],[1.0,\"#f0f921\"]]}],\"heatmap\":[{\"type\":\"heatmap\",\"colorbar\":{\"outlinewidth\":0,\"ticks\":\"\"},\"colorscale\":[[0.0,\"#0d0887\"],[0.1111111111111111,\"#46039f\"],[0.2222222222222222,\"#7201a8\"],[0.3333333333333333,\"#9c179e\"],[0.4444444444444444,\"#bd3786\"],[0.5555555555555556,\"#d8576b\"],[0.6666666666666666,\"#ed7953\"],[0.7777777777777778,\"#fb9f3a\"],[0.8888888888888888,\"#fdca26\"],[1.0,\"#f0f921\"]]}],\"heatmapgl\":[{\"type\":\"heatmapgl\",\"colorbar\":{\"outlinewidth\":0,\"ticks\":\"\"},\"colorscale\":[[0.0,\"#0d0887\"],[0.1111111111111111,\"#46039f\"],[0.2222222222222222,\"#7201a8\"],[0.3333333333333333,\"#9c179e\"],[0.4444444444444444,\"#bd3786\"],[0.5555555555555556,\"#d8576b\"],[0.6666666666666666,\"#ed7953\"],[0.7777777777777778,\"#fb9f3a\"],[0.8888888888888888,\"#fdca26\"],[1.0,\"#f0f921\"]]}],\"contourcarpet\":[{\"type\":\"contourcarpet\",\"colorbar\":{\"outlinewidth\":0,\"ticks\":\"\"}}],\"contour\":[{\"type\":\"contour\",\"colorbar\":{\"outlinewidth\":0,\"ticks\":\"\"},\"colorscale\":[[0.0,\"#0d0887\"],[0.1111111111111111,\"#46039f\"],[0.2222222222222222,\"#7201a8\"],[0.3333333333333333,\"#9c179e\"],[0.4444444444444444,\"#bd3786\"],[0.5555555555555556,\"#d8576b\"],[0.6666666666666666,\"#ed7953\"],[0.7777777777777778,\"#fb9f3a\"],[0.8888888888888888,\"#fdca26\"],[1.0,\"#f0f921\"]]}],\"surface\":[{\"type\":\"surface\",\"colorbar\":{\"outlinewidth\":0,\"ticks\":\"\"},\"colorscale\":[[0.0,\"#0d0887\"],[0.1111111111111111,\"#46039f\"],[0.2222222222222222,\"#7201a8\"],[0.3333333333333333,\"#9c179e\"],[0.4444444444444444,\"#bd3786\"],[0.5555555555555556,\"#d8576b\"],[0.6666666666666666,\"#ed7953\"],[0.7777777777777778,\"#fb9f3a\"],[0.8888888888888888,\"#fdca26\"],[1.0,\"#f0f921\"]]}],\"mesh3d\":[{\"type\":\"mesh3d\",\"colorbar\":{\"outlinewidth\":0,\"ticks\":\"\"}}],\"scatter\":[{\"fillpattern\":{\"fillmode\":\"overlay\",\"size\":10,\"solidity\":0.2},\"type\":\"scatter\"}],\"parcoords\":[{\"type\":\"parcoords\",\"line\":{\"colorbar\":{\"outlinewidth\":0,\"ticks\":\"\"}}}],\"scatterpolargl\":[{\"type\":\"scatterpolargl\",\"marker\":{\"colorbar\":{\"outlinewidth\":0,\"ticks\":\"\"}}}],\"bar\":[{\"error_x\":{\"color\":\"#2a3f5f\"},\"error_y\":{\"color\":\"#2a3f5f\"},\"marker\":{\"line\":{\"color\":\"#E5ECF6\",\"width\":0.5},\"pattern\":{\"fillmode\":\"overlay\",\"size\":10,\"solidity\":0.2}},\"type\":\"bar\"}],\"scattergeo\":[{\"type\":\"scattergeo\",\"marker\":{\"colorbar\":{\"outlinewidth\":0,\"ticks\":\"\"}}}],\"scatterpolar\":[{\"type\":\"scatterpolar\",\"marker\":{\"colorbar\":{\"outlinewidth\":0,\"ticks\":\"\"}}}],\"histogram\":[{\"marker\":{\"pattern\":{\"fillmode\":\"overlay\",\"size\":10,\"solidity\":0.2}},\"type\":\"histogram\"}],\"scattergl\":[{\"type\":\"scattergl\",\"marker\":{\"colorbar\":{\"outlinewidth\":0,\"ticks\":\"\"}}}],\"scatter3d\":[{\"type\":\"scatter3d\",\"line\":{\"colorbar\":{\"outlinewidth\":0,\"ticks\":\"\"}},\"marker\":{\"colorbar\":{\"outlinewidth\":0,\"ticks\":\"\"}}}],\"scattermapbox\":[{\"type\":\"scattermapbox\",\"marker\":{\"colorbar\":{\"outlinewidth\":0,\"ticks\":\"\"}}}],\"scatterternary\":[{\"type\":\"scatterternary\",\"marker\":{\"colorbar\":{\"outlinewidth\":0,\"ticks\":\"\"}}}],\"scattercarpet\":[{\"type\":\"scattercarpet\",\"marker\":{\"colorbar\":{\"outlinewidth\":0,\"ticks\":\"\"}}}],\"carpet\":[{\"aaxis\":{\"endlinecolor\":\"#2a3f5f\",\"gridcolor\":\"white\",\"linecolor\":\"white\",\"minorgridcolor\":\"white\",\"startlinecolor\":\"#2a3f5f\"},\"baxis\":{\"endlinecolor\":\"#2a3f5f\",\"gridcolor\":\"white\",\"linecolor\":\"white\",\"minorgridcolor\":\"white\",\"startlinecolor\":\"#2a3f5f\"},\"type\":\"carpet\"}],\"table\":[{\"cells\":{\"fill\":{\"color\":\"#EBF0F8\"},\"line\":{\"color\":\"white\"}},\"header\":{\"fill\":{\"color\":\"#C8D4E3\"},\"line\":{\"color\":\"white\"}},\"type\":\"table\"}],\"barpolar\":[{\"marker\":{\"line\":{\"color\":\"#E5ECF6\",\"width\":0.5},\"pattern\":{\"fillmode\":\"overlay\",\"size\":10,\"solidity\":0.2}},\"type\":\"barpolar\"}],\"pie\":[{\"automargin\":true,\"type\":\"pie\"}]},\"layout\":{\"autotypenumbers\":\"strict\",\"colorway\":[\"#636efa\",\"#EF553B\",\"#00cc96\",\"#ab63fa\",\"#FFA15A\",\"#19d3f3\",\"#FF6692\",\"#B6E880\",\"#FF97FF\",\"#FECB52\"],\"font\":{\"color\":\"#2a3f5f\"},\"hovermode\":\"closest\",\"hoverlabel\":{\"align\":\"left\"},\"paper_bgcolor\":\"white\",\"plot_bgcolor\":\"#E5ECF6\",\"polar\":{\"bgcolor\":\"#E5ECF6\",\"angularaxis\":{\"gridcolor\":\"white\",\"linecolor\":\"white\",\"ticks\":\"\"},\"radialaxis\":{\"gridcolor\":\"white\",\"linecolor\":\"white\",\"ticks\":\"\"}},\"ternary\":{\"bgcolor\":\"#E5ECF6\",\"aaxis\":{\"gridcolor\":\"white\",\"linecolor\":\"white\",\"ticks\":\"\"},\"baxis\":{\"gridcolor\":\"white\",\"linecolor\":\"white\",\"ticks\":\"\"},\"caxis\":{\"gridcolor\":\"white\",\"linecolor\":\"white\",\"ticks\":\"\"}},\"coloraxis\":{\"colorbar\":{\"outlinewidth\":0,\"ticks\":\"\"}},\"colorscale\":{\"sequential\":[[0.0,\"#0d0887\"],[0.1111111111111111,\"#46039f\"],[0.2222222222222222,\"#7201a8\"],[0.3333333333333333,\"#9c179e\"],[0.4444444444444444,\"#bd3786\"],[0.5555555555555556,\"#d8576b\"],[0.6666666666666666,\"#ed7953\"],[0.7777777777777778,\"#fb9f3a\"],[0.8888888888888888,\"#fdca26\"],[1.0,\"#f0f921\"]],\"sequentialminus\":[[0.0,\"#0d0887\"],[0.1111111111111111,\"#46039f\"],[0.2222222222222222,\"#7201a8\"],[0.3333333333333333,\"#9c179e\"],[0.4444444444444444,\"#bd3786\"],[0.5555555555555556,\"#d8576b\"],[0.6666666666666666,\"#ed7953\"],[0.7777777777777778,\"#fb9f3a\"],[0.8888888888888888,\"#fdca26\"],[1.0,\"#f0f921\"]],\"diverging\":[[0,\"#8e0152\"],[0.1,\"#c51b7d\"],[0.2,\"#de77ae\"],[0.3,\"#f1b6da\"],[0.4,\"#fde0ef\"],[0.5,\"#f7f7f7\"],[0.6,\"#e6f5d0\"],[0.7,\"#b8e186\"],[0.8,\"#7fbc41\"],[0.9,\"#4d9221\"],[1,\"#276419\"]]},\"xaxis\":{\"gridcolor\":\"white\",\"linecolor\":\"white\",\"ticks\":\"\",\"title\":{\"standoff\":15},\"zerolinecolor\":\"white\",\"automargin\":true,\"zerolinewidth\":2},\"yaxis\":{\"gridcolor\":\"white\",\"linecolor\":\"white\",\"ticks\":\"\",\"title\":{\"standoff\":15},\"zerolinecolor\":\"white\",\"automargin\":true,\"zerolinewidth\":2},\"scene\":{\"xaxis\":{\"backgroundcolor\":\"#E5ECF6\",\"gridcolor\":\"white\",\"linecolor\":\"white\",\"showbackground\":true,\"ticks\":\"\",\"zerolinecolor\":\"white\",\"gridwidth\":2},\"yaxis\":{\"backgroundcolor\":\"#E5ECF6\",\"gridcolor\":\"white\",\"linecolor\":\"white\",\"showbackground\":true,\"ticks\":\"\",\"zerolinecolor\":\"white\",\"gridwidth\":2},\"zaxis\":{\"backgroundcolor\":\"#E5ECF6\",\"gridcolor\":\"white\",\"linecolor\":\"white\",\"showbackground\":true,\"ticks\":\"\",\"zerolinecolor\":\"white\",\"gridwidth\":2}},\"shapedefaults\":{\"line\":{\"color\":\"#2a3f5f\"}},\"annotationdefaults\":{\"arrowcolor\":\"#2a3f5f\",\"arrowhead\":0,\"arrowwidth\":1},\"geo\":{\"bgcolor\":\"white\",\"landcolor\":\"#E5ECF6\",\"subunitcolor\":\"white\",\"showland\":true,\"showlakes\":true,\"lakecolor\":\"white\"},\"title\":{\"x\":0.05},\"mapbox\":{\"style\":\"light\"}}},\"yaxis\":{\"range\":[-10,10]},\"height\":500},                        {\"responsive\": true}                    ).then(function(){\n",
       "                            \n",
       "var gd = document.getElementById('bef450f4-ff4c-4420-a068-d9746eefc6b2');\n",
       "var x = new MutationObserver(function (mutations, observer) {{\n",
       "        var display = window.getComputedStyle(gd).display;\n",
       "        if (!display || display === 'none') {{\n",
       "            console.log([gd, 'removed!']);\n",
       "            Plotly.purge(gd);\n",
       "            observer.disconnect();\n",
       "        }}\n",
       "}});\n",
       "\n",
       "// Listen for the removal of the full notebook cells\n",
       "var notebookContainer = gd.closest('#notebook-container');\n",
       "if (notebookContainer) {{\n",
       "    x.observe(notebookContainer, {childList: true});\n",
       "}}\n",
       "\n",
       "// Listen for the clearing of the current output cell\n",
       "var outputEl = gd.closest('.output');\n",
       "if (outputEl) {{\n",
       "    x.observe(outputEl, {childList: true});\n",
       "}}\n",
       "\n",
       "                        })                };                });            </script>        </div>"
      ]
     },
     "metadata": {},
     "output_type": "display_data"
    }
   ],
   "source": [
    "fig = go.Figure()\n",
    "fig.update_layout(dict(height=500), yaxis_range=[-10, 10])\n",
    "fig.add_trace(go.Scatter(y=e_lat_sun.degrees, x=news.utc_datetime(), mode='markers', name=\"sun\"))\n",
    "fig.add_trace(go.Scatter(y=e_lat_moon.degrees, x=news.utc_datetime(), mode='markers', name=\"moon\"))\n",
    "fig.update_traces(marker=dict(size=ang_sun*25), selector=dict(name=\"sun\"))\n",
    "fig.update_traces(marker=dict(size=ang_moon*25), selector=dict(name=\"moon\"))\n",
    "\n",
    "\n",
    "fig.show()"
   ]
  },
  {
   "cell_type": "code",
   "execution_count": 17,
   "id": "0f6fa310-5ee0-4779-9b6a-a5bc6eae741c",
   "metadata": {},
   "outputs": [
    {
     "ename": "SyntaxError",
     "evalue": "incomplete input (570054698.py, line 1)",
     "output_type": "error",
     "traceback": [
      "\u001b[0;36m  Cell \u001b[0;32mIn[17], line 1\u001b[0;36m\u001b[0m\n\u001b[0;31m    fig.select_traces(\u001b[0m\n\u001b[0m                      ^\u001b[0m\n\u001b[0;31mSyntaxError\u001b[0m\u001b[0;31m:\u001b[0m incomplete input\n"
     ]
    }
   ],
   "source": [
    "fig.select_traces("
   ]
  },
  {
   "cell_type": "code",
   "execution_count": 18,
   "id": "a08bee9f-ffc8-4b98-8588-382e21d863f6",
   "metadata": {},
   "outputs": [
    {
     "data": {
      "application/vnd.plotly.v1+json": {
       "config": {
        "plotlyServerURL": "https://plot.ly"
       },
       "data": [
        {
         "mode": "markers",
         "type": "scatter",
         "x": [
          142.9651601211322,
          142.9595163782441
         ],
         "xaxis": "x",
         "y": [
          -0.0014117861044787583,
          4.519505256043266
         ],
         "yaxis": "y"
        },
        {
         "mode": "markers",
         "type": "scatter",
         "x": [
          171.65479408408308,
          171.64916587440644
         ],
         "xaxis": "x2",
         "y": [
          1.9988902203933292e-05,
          2.844643917724569
         ],
         "yaxis": "y2"
        },
        {
         "mode": "markers",
         "type": "scatter",
         "x": [
          200.80183949778308,
          200.79630352056634
         ],
         "xaxis": "x3",
         "y": [
          0.0014907616912552353,
          0.34777515511737694
         ],
         "yaxis": "y3"
        },
        {
         "mode": "markers",
         "type": "scatter",
         "x": [
          230.4063662823698,
          230.40087849353492
         ],
         "xaxis": "x4",
         "y": [
          0.002611331835504824,
          -2.2862637126642364
         ],
         "yaxis": "y4"
        },
        {
         "mode": "markers",
         "type": "scatter",
         "x": [
          171.65479408408308,
          171.64916587440644
         ],
         "xaxis": "x5",
         "y": [
          1.9988902203933292e-05,
          2.844643917724569
         ],
         "yaxis": "y5"
        },
        {
         "mode": "markers",
         "type": "scatter",
         "x": [
          200.80183949778308,
          200.79630352056634
         ],
         "xaxis": "x6",
         "y": [
          0.0014907616912552353,
          0.34777515511737694
         ],
         "yaxis": "y6"
        },
        {
         "mode": "markers",
         "type": "scatter",
         "x": [
          230.4063662823698,
          230.40087849353492
         ],
         "xaxis": "x7",
         "y": [
          0.002611331835504824,
          -2.2862637126642364
         ],
         "yaxis": "y7"
        },
        {
         "mode": "markers",
         "type": "scatter",
         "x": [
          260.3469408639127,
          260.341377659164
         ],
         "xaxis": "x8",
         "y": [
          0.0030663119349495526,
          -4.271484197835379
         ],
         "yaxis": "y8"
        },
        {
         "mode": "markers",
         "type": "scatter",
         "x": [
          200.80183949778308,
          200.79630352056634
         ],
         "xaxis": "x9",
         "y": [
          0.0014907616912552353,
          0.34777515511737694
         ],
         "yaxis": "y9"
        },
        {
         "mode": "markers",
         "type": "scatter",
         "x": [
          230.4063662823698,
          230.40087849353492
         ],
         "xaxis": "x10",
         "y": [
          0.002611331835504824,
          -2.2862637126642364
         ],
         "yaxis": "y10"
        },
        {
         "mode": "markers",
         "type": "scatter",
         "x": [
          260.3469408639127,
          260.341377659164
         ],
         "xaxis": "x11",
         "y": [
          0.0030663119349495526,
          -4.271484197835379
         ],
         "yaxis": "y11"
        },
        {
         "mode": "markers",
         "type": "scatter",
         "x": [
          290.41170995775985,
          290.40600879652595
         ],
         "xaxis": "x12",
         "y": [
          0.002714503585427222,
          -4.995899555548065
         ],
         "yaxis": "y12"
        },
        {
         "mode": "markers",
         "type": "scatter",
         "x": [
          142.9651601211322,
          142.9595163782441
         ],
         "xaxis": "x",
         "y": [
          -0.0014117861044787583,
          4.519505256043266
         ],
         "yaxis": "y"
        },
        {
         "mode": "markers",
         "type": "scatter",
         "x": [
          171.65479408408308,
          171.64916587440644
         ],
         "xaxis": "x2",
         "y": [
          1.9988902203933292e-05,
          2.844643917724569
         ],
         "yaxis": "y2"
        },
        {
         "mode": "markers",
         "type": "scatter",
         "x": [
          200.80183949778308,
          200.79630352056634
         ],
         "xaxis": "x3",
         "y": [
          0.0014907616912552353,
          0.34777515511737694
         ],
         "yaxis": "y3"
        },
        {
         "mode": "markers",
         "type": "scatter",
         "x": [
          230.4063662823698,
          230.40087849353492
         ],
         "xaxis": "x4",
         "y": [
          0.002611331835504824,
          -2.2862637126642364
         ],
         "yaxis": "y4"
        },
        {
         "mode": "markers",
         "type": "scatter",
         "x": [
          171.65479408408308,
          171.64916587440644
         ],
         "xaxis": "x5",
         "y": [
          1.9988902203933292e-05,
          2.844643917724569
         ],
         "yaxis": "y5"
        },
        {
         "mode": "markers",
         "type": "scatter",
         "x": [
          200.80183949778308,
          200.79630352056634
         ],
         "xaxis": "x6",
         "y": [
          0.0014907616912552353,
          0.34777515511737694
         ],
         "yaxis": "y6"
        },
        {
         "mode": "markers",
         "type": "scatter",
         "x": [
          230.4063662823698,
          230.40087849353492
         ],
         "xaxis": "x7",
         "y": [
          0.002611331835504824,
          -2.2862637126642364
         ],
         "yaxis": "y7"
        },
        {
         "mode": "markers",
         "type": "scatter",
         "x": [
          260.3469408639127,
          260.341377659164
         ],
         "xaxis": "x8",
         "y": [
          0.0030663119349495526,
          -4.271484197835379
         ],
         "yaxis": "y8"
        },
        {
         "mode": "markers",
         "type": "scatter",
         "x": [
          200.80183949778308,
          200.79630352056634
         ],
         "xaxis": "x9",
         "y": [
          0.0014907616912552353,
          0.34777515511737694
         ],
         "yaxis": "y9"
        },
        {
         "mode": "markers",
         "type": "scatter",
         "x": [
          230.4063662823698,
          230.40087849353492
         ],
         "xaxis": "x10",
         "y": [
          0.002611331835504824,
          -2.2862637126642364
         ],
         "yaxis": "y10"
        },
        {
         "mode": "markers",
         "type": "scatter",
         "x": [
          260.3469408639127,
          260.341377659164
         ],
         "xaxis": "x11",
         "y": [
          0.0030663119349495526,
          -4.271484197835379
         ],
         "yaxis": "y11"
        },
        {
         "mode": "markers",
         "type": "scatter",
         "x": [
          290.41170995775985,
          290.40600879652595
         ],
         "xaxis": "x12",
         "y": [
          0.002714503585427222,
          -4.995899555548065
         ],
         "yaxis": "y12"
        },
        {
         "mode": "markers",
         "type": "scatter",
         "x": [
          142.9651601211322,
          142.9595163782441
         ],
         "xaxis": "x",
         "y": [
          -0.0014117861044787583,
          4.519505256043266
         ],
         "yaxis": "y"
        },
        {
         "mode": "markers",
         "type": "scatter",
         "x": [
          171.65479408408308,
          171.64916587440644
         ],
         "xaxis": "x2",
         "y": [
          1.9988902203933292e-05,
          2.844643917724569
         ],
         "yaxis": "y2"
        },
        {
         "mode": "markers",
         "type": "scatter",
         "x": [
          200.80183949778308,
          200.79630352056634
         ],
         "xaxis": "x3",
         "y": [
          0.0014907616912552353,
          0.34777515511737694
         ],
         "yaxis": "y3"
        },
        {
         "mode": "markers",
         "type": "scatter",
         "x": [
          230.4063662823698,
          230.40087849353492
         ],
         "xaxis": "x4",
         "y": [
          0.002611331835504824,
          -2.2862637126642364
         ],
         "yaxis": "y4"
        },
        {
         "mode": "markers",
         "type": "scatter",
         "x": [
          171.65479408408308,
          171.64916587440644
         ],
         "xaxis": "x5",
         "y": [
          1.9988902203933292e-05,
          2.844643917724569
         ],
         "yaxis": "y5"
        },
        {
         "mode": "markers",
         "type": "scatter",
         "x": [
          200.80183949778308,
          200.79630352056634
         ],
         "xaxis": "x6",
         "y": [
          0.0014907616912552353,
          0.34777515511737694
         ],
         "yaxis": "y6"
        },
        {
         "mode": "markers",
         "type": "scatter",
         "x": [
          230.4063662823698,
          230.40087849353492
         ],
         "xaxis": "x7",
         "y": [
          0.002611331835504824,
          -2.2862637126642364
         ],
         "yaxis": "y7"
        },
        {
         "mode": "markers",
         "type": "scatter",
         "x": [
          260.3469408639127,
          260.341377659164
         ],
         "xaxis": "x8",
         "y": [
          0.0030663119349495526,
          -4.271484197835379
         ],
         "yaxis": "y8"
        },
        {
         "mode": "markers",
         "type": "scatter",
         "x": [
          200.80183949778308,
          200.79630352056634
         ],
         "xaxis": "x9",
         "y": [
          0.0014907616912552353,
          0.34777515511737694
         ],
         "yaxis": "y9"
        },
        {
         "mode": "markers",
         "type": "scatter",
         "x": [
          230.4063662823698,
          230.40087849353492
         ],
         "xaxis": "x10",
         "y": [
          0.002611331835504824,
          -2.2862637126642364
         ],
         "yaxis": "y10"
        },
        {
         "mode": "markers",
         "type": "scatter",
         "x": [
          260.3469408639127,
          260.341377659164
         ],
         "xaxis": "x11",
         "y": [
          0.0030663119349495526,
          -4.271484197835379
         ],
         "yaxis": "y11"
        },
        {
         "mode": "markers",
         "type": "scatter",
         "x": [
          290.41170995775985,
          290.40600879652595
         ],
         "xaxis": "x12",
         "y": [
          0.002714503585427222,
          -4.995899555548065
         ],
         "yaxis": "y12"
        },
        {
         "mode": "markers",
         "type": "scatter",
         "x": [
          142.9651601211322,
          142.9595163782441
         ],
         "xaxis": "x",
         "y": [
          -0.0014117861044787583,
          4.519505256043266
         ],
         "yaxis": "y"
        },
        {
         "mode": "markers",
         "type": "scatter",
         "x": [
          171.65479408408308,
          171.64916587440644
         ],
         "xaxis": "x2",
         "y": [
          1.9988902203933292e-05,
          2.844643917724569
         ],
         "yaxis": "y2"
        },
        {
         "mode": "markers",
         "type": "scatter",
         "x": [
          200.80183949778308,
          200.79630352056634
         ],
         "xaxis": "x3",
         "y": [
          0.0014907616912552353,
          0.34777515511737694
         ],
         "yaxis": "y3"
        },
        {
         "mode": "markers",
         "type": "scatter",
         "x": [
          230.4063662823698,
          230.40087849353492
         ],
         "xaxis": "x4",
         "y": [
          0.002611331835504824,
          -2.2862637126642364
         ],
         "yaxis": "y4"
        },
        {
         "mode": "markers",
         "type": "scatter",
         "x": [
          171.65479408408308,
          171.64916587440644
         ],
         "xaxis": "x5",
         "y": [
          1.9988902203933292e-05,
          2.844643917724569
         ],
         "yaxis": "y5"
        },
        {
         "mode": "markers",
         "type": "scatter",
         "x": [
          200.80183949778308,
          200.79630352056634
         ],
         "xaxis": "x6",
         "y": [
          0.0014907616912552353,
          0.34777515511737694
         ],
         "yaxis": "y6"
        },
        {
         "mode": "markers",
         "type": "scatter",
         "x": [
          230.4063662823698,
          230.40087849353492
         ],
         "xaxis": "x7",
         "y": [
          0.002611331835504824,
          -2.2862637126642364
         ],
         "yaxis": "y7"
        },
        {
         "mode": "markers",
         "type": "scatter",
         "x": [
          260.3469408639127,
          260.341377659164
         ],
         "xaxis": "x8",
         "y": [
          0.0030663119349495526,
          -4.271484197835379
         ],
         "yaxis": "y8"
        },
        {
         "mode": "markers",
         "type": "scatter",
         "x": [
          200.80183949778308,
          200.79630352056634
         ],
         "xaxis": "x9",
         "y": [
          0.0014907616912552353,
          0.34777515511737694
         ],
         "yaxis": "y9"
        },
        {
         "mode": "markers",
         "type": "scatter",
         "x": [
          230.4063662823698,
          230.40087849353492
         ],
         "xaxis": "x10",
         "y": [
          0.002611331835504824,
          -2.2862637126642364
         ],
         "yaxis": "y10"
        },
        {
         "mode": "markers",
         "type": "scatter",
         "x": [
          260.3469408639127,
          260.341377659164
         ],
         "xaxis": "x11",
         "y": [
          0.0030663119349495526,
          -4.271484197835379
         ],
         "yaxis": "y11"
        },
        {
         "mode": "markers",
         "type": "scatter",
         "x": [
          290.41170995775985,
          290.40600879652595
         ],
         "xaxis": "x12",
         "y": [
          0.002714503585427222,
          -4.995899555548065
         ],
         "yaxis": "y12"
        },
        {
         "mode": "markers",
         "type": "scatter",
         "x": [
          142.9651601211322,
          142.9595163782441
         ],
         "xaxis": "x",
         "y": [
          -0.0014117861044787583,
          4.519505256043266
         ],
         "yaxis": "y"
        },
        {
         "mode": "markers",
         "type": "scatter",
         "x": [
          171.65479408408308,
          171.64916587440644
         ],
         "xaxis": "x2",
         "y": [
          1.9988902203933292e-05,
          2.844643917724569
         ],
         "yaxis": "y2"
        },
        {
         "mode": "markers",
         "type": "scatter",
         "x": [
          200.80183949778308,
          200.79630352056634
         ],
         "xaxis": "x3",
         "y": [
          0.0014907616912552353,
          0.34777515511737694
         ],
         "yaxis": "y3"
        },
        {
         "mode": "markers",
         "type": "scatter",
         "x": [
          230.4063662823698,
          230.40087849353492
         ],
         "xaxis": "x4",
         "y": [
          0.002611331835504824,
          -2.2862637126642364
         ],
         "yaxis": "y4"
        },
        {
         "mode": "markers",
         "type": "scatter",
         "x": [
          171.65479408408308,
          171.64916587440644
         ],
         "xaxis": "x5",
         "y": [
          1.9988902203933292e-05,
          2.844643917724569
         ],
         "yaxis": "y5"
        },
        {
         "mode": "markers",
         "type": "scatter",
         "x": [
          200.80183949778308,
          200.79630352056634
         ],
         "xaxis": "x6",
         "y": [
          0.0014907616912552353,
          0.34777515511737694
         ],
         "yaxis": "y6"
        },
        {
         "mode": "markers",
         "type": "scatter",
         "x": [
          230.4063662823698,
          230.40087849353492
         ],
         "xaxis": "x7",
         "y": [
          0.002611331835504824,
          -2.2862637126642364
         ],
         "yaxis": "y7"
        },
        {
         "mode": "markers",
         "type": "scatter",
         "x": [
          260.3469408639127,
          260.341377659164
         ],
         "xaxis": "x8",
         "y": [
          0.0030663119349495526,
          -4.271484197835379
         ],
         "yaxis": "y8"
        },
        {
         "mode": "markers",
         "type": "scatter",
         "x": [
          200.80183949778308,
          200.79630352056634
         ],
         "xaxis": "x9",
         "y": [
          0.0014907616912552353,
          0.34777515511737694
         ],
         "yaxis": "y9"
        },
        {
         "mode": "markers",
         "type": "scatter",
         "x": [
          230.4063662823698,
          230.40087849353492
         ],
         "xaxis": "x10",
         "y": [
          0.002611331835504824,
          -2.2862637126642364
         ],
         "yaxis": "y10"
        },
        {
         "mode": "markers",
         "type": "scatter",
         "x": [
          260.3469408639127,
          260.341377659164
         ],
         "xaxis": "x11",
         "y": [
          0.0030663119349495526,
          -4.271484197835379
         ],
         "yaxis": "y11"
        },
        {
         "mode": "markers",
         "type": "scatter",
         "x": [
          290.41170995775985,
          290.40600879652595
         ],
         "xaxis": "x12",
         "y": [
          0.002714503585427222,
          -4.995899555548065
         ],
         "yaxis": "y12"
        },
        {
         "mode": "markers",
         "type": "scatter",
         "x": [
          142.9651601211322,
          142.9595163782441
         ],
         "xaxis": "x",
         "y": [
          -0.0014117861044787583,
          4.519505256043266
         ],
         "yaxis": "y"
        },
        {
         "mode": "markers",
         "type": "scatter",
         "x": [
          171.65479408408308,
          171.64916587440644
         ],
         "xaxis": "x2",
         "y": [
          1.9988902203933292e-05,
          2.844643917724569
         ],
         "yaxis": "y2"
        },
        {
         "mode": "markers",
         "type": "scatter",
         "x": [
          200.80183949778308,
          200.79630352056634
         ],
         "xaxis": "x3",
         "y": [
          0.0014907616912552353,
          0.34777515511737694
         ],
         "yaxis": "y3"
        },
        {
         "mode": "markers",
         "type": "scatter",
         "x": [
          230.4063662823698,
          230.40087849353492
         ],
         "xaxis": "x4",
         "y": [
          0.002611331835504824,
          -2.2862637126642364
         ],
         "yaxis": "y4"
        },
        {
         "mode": "markers",
         "type": "scatter",
         "x": [
          171.65479408408308,
          171.64916587440644
         ],
         "xaxis": "x5",
         "y": [
          1.9988902203933292e-05,
          2.844643917724569
         ],
         "yaxis": "y5"
        },
        {
         "mode": "markers",
         "type": "scatter",
         "x": [
          200.80183949778308,
          200.79630352056634
         ],
         "xaxis": "x6",
         "y": [
          0.0014907616912552353,
          0.34777515511737694
         ],
         "yaxis": "y6"
        },
        {
         "mode": "markers",
         "type": "scatter",
         "x": [
          230.4063662823698,
          230.40087849353492
         ],
         "xaxis": "x7",
         "y": [
          0.002611331835504824,
          -2.2862637126642364
         ],
         "yaxis": "y7"
        },
        {
         "mode": "markers",
         "type": "scatter",
         "x": [
          260.3469408639127,
          260.341377659164
         ],
         "xaxis": "x8",
         "y": [
          0.0030663119349495526,
          -4.271484197835379
         ],
         "yaxis": "y8"
        },
        {
         "mode": "markers",
         "type": "scatter",
         "x": [
          200.80183949778308,
          200.79630352056634
         ],
         "xaxis": "x9",
         "y": [
          0.0014907616912552353,
          0.34777515511737694
         ],
         "yaxis": "y9"
        },
        {
         "mode": "markers",
         "type": "scatter",
         "x": [
          230.4063662823698,
          230.40087849353492
         ],
         "xaxis": "x10",
         "y": [
          0.002611331835504824,
          -2.2862637126642364
         ],
         "yaxis": "y10"
        },
        {
         "mode": "markers",
         "type": "scatter",
         "x": [
          260.3469408639127,
          260.341377659164
         ],
         "xaxis": "x11",
         "y": [
          0.0030663119349495526,
          -4.271484197835379
         ],
         "yaxis": "y11"
        },
        {
         "mode": "markers",
         "type": "scatter",
         "x": [
          290.41170995775985,
          290.40600879652595
         ],
         "xaxis": "x12",
         "y": [
          0.002714503585427222,
          -4.995899555548065
         ],
         "yaxis": "y12"
        },
        {
         "mode": "markers",
         "type": "scatter",
         "x": [
          142.9651601211322,
          142.9595163782441
         ],
         "xaxis": "x",
         "y": [
          -0.0014117861044787583,
          4.519505256043266
         ],
         "yaxis": "y"
        },
        {
         "mode": "markers",
         "type": "scatter",
         "x": [
          171.65479408408308,
          171.64916587440644
         ],
         "xaxis": "x2",
         "y": [
          1.9988902203933292e-05,
          2.844643917724569
         ],
         "yaxis": "y2"
        },
        {
         "mode": "markers",
         "type": "scatter",
         "x": [
          200.80183949778308,
          200.79630352056634
         ],
         "xaxis": "x3",
         "y": [
          0.0014907616912552353,
          0.34777515511737694
         ],
         "yaxis": "y3"
        },
        {
         "mode": "markers",
         "type": "scatter",
         "x": [
          230.4063662823698,
          230.40087849353492
         ],
         "xaxis": "x4",
         "y": [
          0.002611331835504824,
          -2.2862637126642364
         ],
         "yaxis": "y4"
        },
        {
         "mode": "markers",
         "type": "scatter",
         "x": [
          171.65479408408308,
          171.64916587440644
         ],
         "xaxis": "x5",
         "y": [
          1.9988902203933292e-05,
          2.844643917724569
         ],
         "yaxis": "y5"
        },
        {
         "mode": "markers",
         "type": "scatter",
         "x": [
          200.80183949778308,
          200.79630352056634
         ],
         "xaxis": "x6",
         "y": [
          0.0014907616912552353,
          0.34777515511737694
         ],
         "yaxis": "y6"
        },
        {
         "mode": "markers",
         "type": "scatter",
         "x": [
          230.4063662823698,
          230.40087849353492
         ],
         "xaxis": "x7",
         "y": [
          0.002611331835504824,
          -2.2862637126642364
         ],
         "yaxis": "y7"
        },
        {
         "mode": "markers",
         "type": "scatter",
         "x": [
          260.3469408639127,
          260.341377659164
         ],
         "xaxis": "x8",
         "y": [
          0.0030663119349495526,
          -4.271484197835379
         ],
         "yaxis": "y8"
        },
        {
         "mode": "markers",
         "type": "scatter",
         "x": [
          200.80183949778308,
          200.79630352056634
         ],
         "xaxis": "x9",
         "y": [
          0.0014907616912552353,
          0.34777515511737694
         ],
         "yaxis": "y9"
        },
        {
         "mode": "markers",
         "type": "scatter",
         "x": [
          230.4063662823698,
          230.40087849353492
         ],
         "xaxis": "x10",
         "y": [
          0.002611331835504824,
          -2.2862637126642364
         ],
         "yaxis": "y10"
        },
        {
         "mode": "markers",
         "type": "scatter",
         "x": [
          260.3469408639127,
          260.341377659164
         ],
         "xaxis": "x11",
         "y": [
          0.0030663119349495526,
          -4.271484197835379
         ],
         "yaxis": "y11"
        },
        {
         "mode": "markers",
         "type": "scatter",
         "x": [
          290.41170995775985,
          290.40600879652595
         ],
         "xaxis": "x12",
         "y": [
          0.002714503585427222,
          -4.995899555548065
         ],
         "yaxis": "y12"
        },
        {
         "mode": "markers",
         "type": "scatter",
         "x": [
          142.9651601211322,
          142.9595163782441
         ],
         "xaxis": "x",
         "y": [
          -0.0014117861044787583,
          4.519505256043266
         ],
         "yaxis": "y"
        },
        {
         "mode": "markers",
         "type": "scatter",
         "x": [
          171.65479408408308,
          171.64916587440644
         ],
         "xaxis": "x2",
         "y": [
          1.9988902203933292e-05,
          2.844643917724569
         ],
         "yaxis": "y2"
        },
        {
         "mode": "markers",
         "type": "scatter",
         "x": [
          200.80183949778308,
          200.79630352056634
         ],
         "xaxis": "x3",
         "y": [
          0.0014907616912552353,
          0.34777515511737694
         ],
         "yaxis": "y3"
        },
        {
         "mode": "markers",
         "type": "scatter",
         "x": [
          230.4063662823698,
          230.40087849353492
         ],
         "xaxis": "x4",
         "y": [
          0.002611331835504824,
          -2.2862637126642364
         ],
         "yaxis": "y4"
        },
        {
         "mode": "markers",
         "type": "scatter",
         "x": [
          171.65479408408308,
          171.64916587440644
         ],
         "xaxis": "x5",
         "y": [
          1.9988902203933292e-05,
          2.844643917724569
         ],
         "yaxis": "y5"
        },
        {
         "mode": "markers",
         "type": "scatter",
         "x": [
          200.80183949778308,
          200.79630352056634
         ],
         "xaxis": "x6",
         "y": [
          0.0014907616912552353,
          0.34777515511737694
         ],
         "yaxis": "y6"
        },
        {
         "mode": "markers",
         "type": "scatter",
         "x": [
          230.4063662823698,
          230.40087849353492
         ],
         "xaxis": "x7",
         "y": [
          0.002611331835504824,
          -2.2862637126642364
         ],
         "yaxis": "y7"
        },
        {
         "mode": "markers",
         "type": "scatter",
         "x": [
          260.3469408639127,
          260.341377659164
         ],
         "xaxis": "x8",
         "y": [
          0.0030663119349495526,
          -4.271484197835379
         ],
         "yaxis": "y8"
        },
        {
         "mode": "markers",
         "type": "scatter",
         "x": [
          200.80183949778308,
          200.79630352056634
         ],
         "xaxis": "x9",
         "y": [
          0.0014907616912552353,
          0.34777515511737694
         ],
         "yaxis": "y9"
        },
        {
         "mode": "markers",
         "type": "scatter",
         "x": [
          230.4063662823698,
          230.40087849353492
         ],
         "xaxis": "x10",
         "y": [
          0.002611331835504824,
          -2.2862637126642364
         ],
         "yaxis": "y10"
        },
        {
         "mode": "markers",
         "type": "scatter",
         "x": [
          260.3469408639127,
          260.341377659164
         ],
         "xaxis": "x11",
         "y": [
          0.0030663119349495526,
          -4.271484197835379
         ],
         "yaxis": "y11"
        },
        {
         "mode": "markers",
         "type": "scatter",
         "x": [
          290.41170995775985,
          290.40600879652595
         ],
         "xaxis": "x12",
         "y": [
          0.002714503585427222,
          -4.995899555548065
         ],
         "yaxis": "y12"
        },
        {
         "mode": "markers",
         "type": "scatter",
         "x": [
          142.9651601211322,
          142.9595163782441
         ],
         "xaxis": "x",
         "y": [
          -0.0014117861044787583,
          4.519505256043266
         ],
         "yaxis": "y"
        },
        {
         "mode": "markers",
         "type": "scatter",
         "x": [
          171.65479408408308,
          171.64916587440644
         ],
         "xaxis": "x2",
         "y": [
          1.9988902203933292e-05,
          2.844643917724569
         ],
         "yaxis": "y2"
        },
        {
         "mode": "markers",
         "type": "scatter",
         "x": [
          200.80183949778308,
          200.79630352056634
         ],
         "xaxis": "x3",
         "y": [
          0.0014907616912552353,
          0.34777515511737694
         ],
         "yaxis": "y3"
        },
        {
         "mode": "markers",
         "type": "scatter",
         "x": [
          230.4063662823698,
          230.40087849353492
         ],
         "xaxis": "x4",
         "y": [
          0.002611331835504824,
          -2.2862637126642364
         ],
         "yaxis": "y4"
        },
        {
         "mode": "markers",
         "type": "scatter",
         "x": [
          171.65479408408308,
          171.64916587440644
         ],
         "xaxis": "x5",
         "y": [
          1.9988902203933292e-05,
          2.844643917724569
         ],
         "yaxis": "y5"
        },
        {
         "mode": "markers",
         "type": "scatter",
         "x": [
          200.80183949778308,
          200.79630352056634
         ],
         "xaxis": "x6",
         "y": [
          0.0014907616912552353,
          0.34777515511737694
         ],
         "yaxis": "y6"
        },
        {
         "mode": "markers",
         "type": "scatter",
         "x": [
          230.4063662823698,
          230.40087849353492
         ],
         "xaxis": "x7",
         "y": [
          0.002611331835504824,
          -2.2862637126642364
         ],
         "yaxis": "y7"
        },
        {
         "mode": "markers",
         "type": "scatter",
         "x": [
          260.3469408639127,
          260.341377659164
         ],
         "xaxis": "x8",
         "y": [
          0.0030663119349495526,
          -4.271484197835379
         ],
         "yaxis": "y8"
        },
        {
         "mode": "markers",
         "type": "scatter",
         "x": [
          200.80183949778308,
          200.79630352056634
         ],
         "xaxis": "x9",
         "y": [
          0.0014907616912552353,
          0.34777515511737694
         ],
         "yaxis": "y9"
        },
        {
         "mode": "markers",
         "type": "scatter",
         "x": [
          230.4063662823698,
          230.40087849353492
         ],
         "xaxis": "x10",
         "y": [
          0.002611331835504824,
          -2.2862637126642364
         ],
         "yaxis": "y10"
        },
        {
         "mode": "markers",
         "type": "scatter",
         "x": [
          260.3469408639127,
          260.341377659164
         ],
         "xaxis": "x11",
         "y": [
          0.0030663119349495526,
          -4.271484197835379
         ],
         "yaxis": "y11"
        },
        {
         "mode": "markers",
         "type": "scatter",
         "x": [
          290.41170995775985,
          290.40600879652595
         ],
         "xaxis": "x12",
         "y": [
          0.002714503585427222,
          -4.995899555548065
         ],
         "yaxis": "y12"
        },
        {
         "mode": "markers",
         "type": "scatter",
         "x": [
          142.9651601211322,
          142.9595163782441
         ],
         "xaxis": "x",
         "y": [
          -0.0014117861044787583,
          4.519505256043266
         ],
         "yaxis": "y"
        },
        {
         "mode": "markers",
         "type": "scatter",
         "x": [
          171.65479408408308,
          171.64916587440644
         ],
         "xaxis": "x2",
         "y": [
          1.9988902203933292e-05,
          2.844643917724569
         ],
         "yaxis": "y2"
        },
        {
         "mode": "markers",
         "type": "scatter",
         "x": [
          200.80183949778308,
          200.79630352056634
         ],
         "xaxis": "x3",
         "y": [
          0.0014907616912552353,
          0.34777515511737694
         ],
         "yaxis": "y3"
        },
        {
         "mode": "markers",
         "type": "scatter",
         "x": [
          230.4063662823698,
          230.40087849353492
         ],
         "xaxis": "x4",
         "y": [
          0.002611331835504824,
          -2.2862637126642364
         ],
         "yaxis": "y4"
        },
        {
         "mode": "markers",
         "type": "scatter",
         "x": [
          171.65479408408308,
          171.64916587440644
         ],
         "xaxis": "x5",
         "y": [
          1.9988902203933292e-05,
          2.844643917724569
         ],
         "yaxis": "y5"
        },
        {
         "mode": "markers",
         "type": "scatter",
         "x": [
          200.80183949778308,
          200.79630352056634
         ],
         "xaxis": "x6",
         "y": [
          0.0014907616912552353,
          0.34777515511737694
         ],
         "yaxis": "y6"
        },
        {
         "mode": "markers",
         "type": "scatter",
         "x": [
          230.4063662823698,
          230.40087849353492
         ],
         "xaxis": "x7",
         "y": [
          0.002611331835504824,
          -2.2862637126642364
         ],
         "yaxis": "y7"
        },
        {
         "mode": "markers",
         "type": "scatter",
         "x": [
          260.3469408639127,
          260.341377659164
         ],
         "xaxis": "x8",
         "y": [
          0.0030663119349495526,
          -4.271484197835379
         ],
         "yaxis": "y8"
        },
        {
         "mode": "markers",
         "type": "scatter",
         "x": [
          200.80183949778308,
          200.79630352056634
         ],
         "xaxis": "x9",
         "y": [
          0.0014907616912552353,
          0.34777515511737694
         ],
         "yaxis": "y9"
        },
        {
         "mode": "markers",
         "type": "scatter",
         "x": [
          230.4063662823698,
          230.40087849353492
         ],
         "xaxis": "x10",
         "y": [
          0.002611331835504824,
          -2.2862637126642364
         ],
         "yaxis": "y10"
        },
        {
         "mode": "markers",
         "type": "scatter",
         "x": [
          260.3469408639127,
          260.341377659164
         ],
         "xaxis": "x11",
         "y": [
          0.0030663119349495526,
          -4.271484197835379
         ],
         "yaxis": "y11"
        },
        {
         "mode": "markers",
         "type": "scatter",
         "x": [
          290.41170995775985,
          290.40600879652595
         ],
         "xaxis": "x12",
         "y": [
          0.002714503585427222,
          -4.995899555548065
         ],
         "yaxis": "y12"
        },
        {
         "mode": "markers",
         "type": "scatter",
         "x": [
          142.9651601211322,
          142.9595163782441
         ],
         "xaxis": "x",
         "y": [
          -0.0014117861044787583,
          4.519505256043266
         ],
         "yaxis": "y"
        },
        {
         "mode": "markers",
         "type": "scatter",
         "x": [
          171.65479408408308,
          171.64916587440644
         ],
         "xaxis": "x2",
         "y": [
          1.9988902203933292e-05,
          2.844643917724569
         ],
         "yaxis": "y2"
        },
        {
         "mode": "markers",
         "type": "scatter",
         "x": [
          200.80183949778308,
          200.79630352056634
         ],
         "xaxis": "x3",
         "y": [
          0.0014907616912552353,
          0.34777515511737694
         ],
         "yaxis": "y3"
        },
        {
         "mode": "markers",
         "type": "scatter",
         "x": [
          230.4063662823698,
          230.40087849353492
         ],
         "xaxis": "x4",
         "y": [
          0.002611331835504824,
          -2.2862637126642364
         ],
         "yaxis": "y4"
        },
        {
         "mode": "markers",
         "type": "scatter",
         "x": [
          171.65479408408308,
          171.64916587440644
         ],
         "xaxis": "x5",
         "y": [
          1.9988902203933292e-05,
          2.844643917724569
         ],
         "yaxis": "y5"
        },
        {
         "mode": "markers",
         "type": "scatter",
         "x": [
          200.80183949778308,
          200.79630352056634
         ],
         "xaxis": "x6",
         "y": [
          0.0014907616912552353,
          0.34777515511737694
         ],
         "yaxis": "y6"
        },
        {
         "mode": "markers",
         "type": "scatter",
         "x": [
          230.4063662823698,
          230.40087849353492
         ],
         "xaxis": "x7",
         "y": [
          0.002611331835504824,
          -2.2862637126642364
         ],
         "yaxis": "y7"
        },
        {
         "mode": "markers",
         "type": "scatter",
         "x": [
          260.3469408639127,
          260.341377659164
         ],
         "xaxis": "x8",
         "y": [
          0.0030663119349495526,
          -4.271484197835379
         ],
         "yaxis": "y8"
        },
        {
         "mode": "markers",
         "type": "scatter",
         "x": [
          200.80183949778308,
          200.79630352056634
         ],
         "xaxis": "x9",
         "y": [
          0.0014907616912552353,
          0.34777515511737694
         ],
         "yaxis": "y9"
        },
        {
         "mode": "markers",
         "type": "scatter",
         "x": [
          230.4063662823698,
          230.40087849353492
         ],
         "xaxis": "x10",
         "y": [
          0.002611331835504824,
          -2.2862637126642364
         ],
         "yaxis": "y10"
        },
        {
         "mode": "markers",
         "type": "scatter",
         "x": [
          260.3469408639127,
          260.341377659164
         ],
         "xaxis": "x11",
         "y": [
          0.0030663119349495526,
          -4.271484197835379
         ],
         "yaxis": "y11"
        },
        {
         "mode": "markers",
         "type": "scatter",
         "x": [
          290.41170995775985,
          290.40600879652595
         ],
         "xaxis": "x12",
         "y": [
          0.002714503585427222,
          -4.995899555548065
         ],
         "yaxis": "y12"
        },
        {
         "mode": "markers",
         "type": "scatter",
         "x": [
          142.9651601211322,
          142.9595163782441
         ],
         "xaxis": "x",
         "y": [
          -0.0014117861044787583,
          4.519505256043266
         ],
         "yaxis": "y"
        },
        {
         "mode": "markers",
         "type": "scatter",
         "x": [
          171.65479408408308,
          171.64916587440644
         ],
         "xaxis": "x2",
         "y": [
          1.9988902203933292e-05,
          2.844643917724569
         ],
         "yaxis": "y2"
        },
        {
         "mode": "markers",
         "type": "scatter",
         "x": [
          200.80183949778308,
          200.79630352056634
         ],
         "xaxis": "x3",
         "y": [
          0.0014907616912552353,
          0.34777515511737694
         ],
         "yaxis": "y3"
        },
        {
         "mode": "markers",
         "type": "scatter",
         "x": [
          230.4063662823698,
          230.40087849353492
         ],
         "xaxis": "x4",
         "y": [
          0.002611331835504824,
          -2.2862637126642364
         ],
         "yaxis": "y4"
        },
        {
         "mode": "markers",
         "type": "scatter",
         "x": [
          171.65479408408308,
          171.64916587440644
         ],
         "xaxis": "x5",
         "y": [
          1.9988902203933292e-05,
          2.844643917724569
         ],
         "yaxis": "y5"
        },
        {
         "mode": "markers",
         "type": "scatter",
         "x": [
          200.80183949778308,
          200.79630352056634
         ],
         "xaxis": "x6",
         "y": [
          0.0014907616912552353,
          0.34777515511737694
         ],
         "yaxis": "y6"
        },
        {
         "mode": "markers",
         "type": "scatter",
         "x": [
          230.4063662823698,
          230.40087849353492
         ],
         "xaxis": "x7",
         "y": [
          0.002611331835504824,
          -2.2862637126642364
         ],
         "yaxis": "y7"
        },
        {
         "mode": "markers",
         "type": "scatter",
         "x": [
          260.3469408639127,
          260.341377659164
         ],
         "xaxis": "x8",
         "y": [
          0.0030663119349495526,
          -4.271484197835379
         ],
         "yaxis": "y8"
        },
        {
         "mode": "markers",
         "type": "scatter",
         "x": [
          200.80183949778308,
          200.79630352056634
         ],
         "xaxis": "x9",
         "y": [
          0.0014907616912552353,
          0.34777515511737694
         ],
         "yaxis": "y9"
        },
        {
         "mode": "markers",
         "type": "scatter",
         "x": [
          230.4063662823698,
          230.40087849353492
         ],
         "xaxis": "x10",
         "y": [
          0.002611331835504824,
          -2.2862637126642364
         ],
         "yaxis": "y10"
        },
        {
         "mode": "markers",
         "type": "scatter",
         "x": [
          260.3469408639127,
          260.341377659164
         ],
         "xaxis": "x11",
         "y": [
          0.0030663119349495526,
          -4.271484197835379
         ],
         "yaxis": "y11"
        },
        {
         "mode": "markers",
         "type": "scatter",
         "x": [
          290.41170995775985,
          290.40600879652595
         ],
         "xaxis": "x12",
         "y": [
          0.002714503585427222,
          -4.995899555548065
         ],
         "yaxis": "y12"
        }
       ],
       "layout": {
        "height": 600,
        "template": {
         "data": {
          "bar": [
           {
            "error_x": {
             "color": "#2a3f5f"
            },
            "error_y": {
             "color": "#2a3f5f"
            },
            "marker": {
             "line": {
              "color": "#E5ECF6",
              "width": 0.5
             },
             "pattern": {
              "fillmode": "overlay",
              "size": 10,
              "solidity": 0.2
             }
            },
            "type": "bar"
           }
          ],
          "barpolar": [
           {
            "marker": {
             "line": {
              "color": "#E5ECF6",
              "width": 0.5
             },
             "pattern": {
              "fillmode": "overlay",
              "size": 10,
              "solidity": 0.2
             }
            },
            "type": "barpolar"
           }
          ],
          "carpet": [
           {
            "aaxis": {
             "endlinecolor": "#2a3f5f",
             "gridcolor": "white",
             "linecolor": "white",
             "minorgridcolor": "white",
             "startlinecolor": "#2a3f5f"
            },
            "baxis": {
             "endlinecolor": "#2a3f5f",
             "gridcolor": "white",
             "linecolor": "white",
             "minorgridcolor": "white",
             "startlinecolor": "#2a3f5f"
            },
            "type": "carpet"
           }
          ],
          "choropleth": [
           {
            "colorbar": {
             "outlinewidth": 0,
             "ticks": ""
            },
            "type": "choropleth"
           }
          ],
          "contour": [
           {
            "colorbar": {
             "outlinewidth": 0,
             "ticks": ""
            },
            "colorscale": [
             [
              0,
              "#0d0887"
             ],
             [
              0.1111111111111111,
              "#46039f"
             ],
             [
              0.2222222222222222,
              "#7201a8"
             ],
             [
              0.3333333333333333,
              "#9c179e"
             ],
             [
              0.4444444444444444,
              "#bd3786"
             ],
             [
              0.5555555555555556,
              "#d8576b"
             ],
             [
              0.6666666666666666,
              "#ed7953"
             ],
             [
              0.7777777777777778,
              "#fb9f3a"
             ],
             [
              0.8888888888888888,
              "#fdca26"
             ],
             [
              1,
              "#f0f921"
             ]
            ],
            "type": "contour"
           }
          ],
          "contourcarpet": [
           {
            "colorbar": {
             "outlinewidth": 0,
             "ticks": ""
            },
            "type": "contourcarpet"
           }
          ],
          "heatmap": [
           {
            "colorbar": {
             "outlinewidth": 0,
             "ticks": ""
            },
            "colorscale": [
             [
              0,
              "#0d0887"
             ],
             [
              0.1111111111111111,
              "#46039f"
             ],
             [
              0.2222222222222222,
              "#7201a8"
             ],
             [
              0.3333333333333333,
              "#9c179e"
             ],
             [
              0.4444444444444444,
              "#bd3786"
             ],
             [
              0.5555555555555556,
              "#d8576b"
             ],
             [
              0.6666666666666666,
              "#ed7953"
             ],
             [
              0.7777777777777778,
              "#fb9f3a"
             ],
             [
              0.8888888888888888,
              "#fdca26"
             ],
             [
              1,
              "#f0f921"
             ]
            ],
            "type": "heatmap"
           }
          ],
          "heatmapgl": [
           {
            "colorbar": {
             "outlinewidth": 0,
             "ticks": ""
            },
            "colorscale": [
             [
              0,
              "#0d0887"
             ],
             [
              0.1111111111111111,
              "#46039f"
             ],
             [
              0.2222222222222222,
              "#7201a8"
             ],
             [
              0.3333333333333333,
              "#9c179e"
             ],
             [
              0.4444444444444444,
              "#bd3786"
             ],
             [
              0.5555555555555556,
              "#d8576b"
             ],
             [
              0.6666666666666666,
              "#ed7953"
             ],
             [
              0.7777777777777778,
              "#fb9f3a"
             ],
             [
              0.8888888888888888,
              "#fdca26"
             ],
             [
              1,
              "#f0f921"
             ]
            ],
            "type": "heatmapgl"
           }
          ],
          "histogram": [
           {
            "marker": {
             "pattern": {
              "fillmode": "overlay",
              "size": 10,
              "solidity": 0.2
             }
            },
            "type": "histogram"
           }
          ],
          "histogram2d": [
           {
            "colorbar": {
             "outlinewidth": 0,
             "ticks": ""
            },
            "colorscale": [
             [
              0,
              "#0d0887"
             ],
             [
              0.1111111111111111,
              "#46039f"
             ],
             [
              0.2222222222222222,
              "#7201a8"
             ],
             [
              0.3333333333333333,
              "#9c179e"
             ],
             [
              0.4444444444444444,
              "#bd3786"
             ],
             [
              0.5555555555555556,
              "#d8576b"
             ],
             [
              0.6666666666666666,
              "#ed7953"
             ],
             [
              0.7777777777777778,
              "#fb9f3a"
             ],
             [
              0.8888888888888888,
              "#fdca26"
             ],
             [
              1,
              "#f0f921"
             ]
            ],
            "type": "histogram2d"
           }
          ],
          "histogram2dcontour": [
           {
            "colorbar": {
             "outlinewidth": 0,
             "ticks": ""
            },
            "colorscale": [
             [
              0,
              "#0d0887"
             ],
             [
              0.1111111111111111,
              "#46039f"
             ],
             [
              0.2222222222222222,
              "#7201a8"
             ],
             [
              0.3333333333333333,
              "#9c179e"
             ],
             [
              0.4444444444444444,
              "#bd3786"
             ],
             [
              0.5555555555555556,
              "#d8576b"
             ],
             [
              0.6666666666666666,
              "#ed7953"
             ],
             [
              0.7777777777777778,
              "#fb9f3a"
             ],
             [
              0.8888888888888888,
              "#fdca26"
             ],
             [
              1,
              "#f0f921"
             ]
            ],
            "type": "histogram2dcontour"
           }
          ],
          "mesh3d": [
           {
            "colorbar": {
             "outlinewidth": 0,
             "ticks": ""
            },
            "type": "mesh3d"
           }
          ],
          "parcoords": [
           {
            "line": {
             "colorbar": {
              "outlinewidth": 0,
              "ticks": ""
             }
            },
            "type": "parcoords"
           }
          ],
          "pie": [
           {
            "automargin": true,
            "type": "pie"
           }
          ],
          "scatter": [
           {
            "fillpattern": {
             "fillmode": "overlay",
             "size": 10,
             "solidity": 0.2
            },
            "type": "scatter"
           }
          ],
          "scatter3d": [
           {
            "line": {
             "colorbar": {
              "outlinewidth": 0,
              "ticks": ""
             }
            },
            "marker": {
             "colorbar": {
              "outlinewidth": 0,
              "ticks": ""
             }
            },
            "type": "scatter3d"
           }
          ],
          "scattercarpet": [
           {
            "marker": {
             "colorbar": {
              "outlinewidth": 0,
              "ticks": ""
             }
            },
            "type": "scattercarpet"
           }
          ],
          "scattergeo": [
           {
            "marker": {
             "colorbar": {
              "outlinewidth": 0,
              "ticks": ""
             }
            },
            "type": "scattergeo"
           }
          ],
          "scattergl": [
           {
            "marker": {
             "colorbar": {
              "outlinewidth": 0,
              "ticks": ""
             }
            },
            "type": "scattergl"
           }
          ],
          "scattermapbox": [
           {
            "marker": {
             "colorbar": {
              "outlinewidth": 0,
              "ticks": ""
             }
            },
            "type": "scattermapbox"
           }
          ],
          "scatterpolar": [
           {
            "marker": {
             "colorbar": {
              "outlinewidth": 0,
              "ticks": ""
             }
            },
            "type": "scatterpolar"
           }
          ],
          "scatterpolargl": [
           {
            "marker": {
             "colorbar": {
              "outlinewidth": 0,
              "ticks": ""
             }
            },
            "type": "scatterpolargl"
           }
          ],
          "scatterternary": [
           {
            "marker": {
             "colorbar": {
              "outlinewidth": 0,
              "ticks": ""
             }
            },
            "type": "scatterternary"
           }
          ],
          "surface": [
           {
            "colorbar": {
             "outlinewidth": 0,
             "ticks": ""
            },
            "colorscale": [
             [
              0,
              "#0d0887"
             ],
             [
              0.1111111111111111,
              "#46039f"
             ],
             [
              0.2222222222222222,
              "#7201a8"
             ],
             [
              0.3333333333333333,
              "#9c179e"
             ],
             [
              0.4444444444444444,
              "#bd3786"
             ],
             [
              0.5555555555555556,
              "#d8576b"
             ],
             [
              0.6666666666666666,
              "#ed7953"
             ],
             [
              0.7777777777777778,
              "#fb9f3a"
             ],
             [
              0.8888888888888888,
              "#fdca26"
             ],
             [
              1,
              "#f0f921"
             ]
            ],
            "type": "surface"
           }
          ],
          "table": [
           {
            "cells": {
             "fill": {
              "color": "#EBF0F8"
             },
             "line": {
              "color": "white"
             }
            },
            "header": {
             "fill": {
              "color": "#C8D4E3"
             },
             "line": {
              "color": "white"
             }
            },
            "type": "table"
           }
          ]
         },
         "layout": {
          "annotationdefaults": {
           "arrowcolor": "#2a3f5f",
           "arrowhead": 0,
           "arrowwidth": 1
          },
          "autotypenumbers": "strict",
          "coloraxis": {
           "colorbar": {
            "outlinewidth": 0,
            "ticks": ""
           }
          },
          "colorscale": {
           "diverging": [
            [
             0,
             "#8e0152"
            ],
            [
             0.1,
             "#c51b7d"
            ],
            [
             0.2,
             "#de77ae"
            ],
            [
             0.3,
             "#f1b6da"
            ],
            [
             0.4,
             "#fde0ef"
            ],
            [
             0.5,
             "#f7f7f7"
            ],
            [
             0.6,
             "#e6f5d0"
            ],
            [
             0.7,
             "#b8e186"
            ],
            [
             0.8,
             "#7fbc41"
            ],
            [
             0.9,
             "#4d9221"
            ],
            [
             1,
             "#276419"
            ]
           ],
           "sequential": [
            [
             0,
             "#0d0887"
            ],
            [
             0.1111111111111111,
             "#46039f"
            ],
            [
             0.2222222222222222,
             "#7201a8"
            ],
            [
             0.3333333333333333,
             "#9c179e"
            ],
            [
             0.4444444444444444,
             "#bd3786"
            ],
            [
             0.5555555555555556,
             "#d8576b"
            ],
            [
             0.6666666666666666,
             "#ed7953"
            ],
            [
             0.7777777777777778,
             "#fb9f3a"
            ],
            [
             0.8888888888888888,
             "#fdca26"
            ],
            [
             1,
             "#f0f921"
            ]
           ],
           "sequentialminus": [
            [
             0,
             "#0d0887"
            ],
            [
             0.1111111111111111,
             "#46039f"
            ],
            [
             0.2222222222222222,
             "#7201a8"
            ],
            [
             0.3333333333333333,
             "#9c179e"
            ],
            [
             0.4444444444444444,
             "#bd3786"
            ],
            [
             0.5555555555555556,
             "#d8576b"
            ],
            [
             0.6666666666666666,
             "#ed7953"
            ],
            [
             0.7777777777777778,
             "#fb9f3a"
            ],
            [
             0.8888888888888888,
             "#fdca26"
            ],
            [
             1,
             "#f0f921"
            ]
           ]
          },
          "colorway": [
           "#636efa",
           "#EF553B",
           "#00cc96",
           "#ab63fa",
           "#FFA15A",
           "#19d3f3",
           "#FF6692",
           "#B6E880",
           "#FF97FF",
           "#FECB52"
          ],
          "font": {
           "color": "#2a3f5f"
          },
          "geo": {
           "bgcolor": "white",
           "lakecolor": "white",
           "landcolor": "#E5ECF6",
           "showlakes": true,
           "showland": true,
           "subunitcolor": "white"
          },
          "hoverlabel": {
           "align": "left"
          },
          "hovermode": "closest",
          "mapbox": {
           "style": "light"
          },
          "paper_bgcolor": "white",
          "plot_bgcolor": "#E5ECF6",
          "polar": {
           "angularaxis": {
            "gridcolor": "white",
            "linecolor": "white",
            "ticks": ""
           },
           "bgcolor": "#E5ECF6",
           "radialaxis": {
            "gridcolor": "white",
            "linecolor": "white",
            "ticks": ""
           }
          },
          "scene": {
           "xaxis": {
            "backgroundcolor": "#E5ECF6",
            "gridcolor": "white",
            "gridwidth": 2,
            "linecolor": "white",
            "showbackground": true,
            "ticks": "",
            "zerolinecolor": "white"
           },
           "yaxis": {
            "backgroundcolor": "#E5ECF6",
            "gridcolor": "white",
            "gridwidth": 2,
            "linecolor": "white",
            "showbackground": true,
            "ticks": "",
            "zerolinecolor": "white"
           },
           "zaxis": {
            "backgroundcolor": "#E5ECF6",
            "gridcolor": "white",
            "gridwidth": 2,
            "linecolor": "white",
            "showbackground": true,
            "ticks": "",
            "zerolinecolor": "white"
           }
          },
          "shapedefaults": {
           "line": {
            "color": "#2a3f5f"
           }
          },
          "ternary": {
           "aaxis": {
            "gridcolor": "white",
            "linecolor": "white",
            "ticks": ""
           },
           "baxis": {
            "gridcolor": "white",
            "linecolor": "white",
            "ticks": ""
           },
           "bgcolor": "#E5ECF6",
           "caxis": {
            "gridcolor": "white",
            "linecolor": "white",
            "ticks": ""
           }
          },
          "title": {
           "x": 0.05
          },
          "xaxis": {
           "automargin": true,
           "gridcolor": "white",
           "linecolor": "white",
           "ticks": "",
           "title": {
            "standoff": 15
           },
           "zerolinecolor": "white",
           "zerolinewidth": 2
          },
          "yaxis": {
           "automargin": true,
           "gridcolor": "white",
           "linecolor": "white",
           "ticks": "",
           "title": {
            "standoff": 15
           },
           "zerolinecolor": "white",
           "zerolinewidth": 2
          }
         }
        },
        "title": {
         "text": "Side By Side Subplots"
        },
        "width": 800,
        "xaxis": {
         "anchor": "y",
         "autorange": true,
         "domain": [
          0,
          0.2125
         ],
         "range": [
          142.95898080583453,
          142.96569569354176
         ],
         "type": "linear"
        },
        "xaxis10": {
         "anchor": "y10",
         "autorange": true,
         "domain": [
          0.2625,
          0.475
         ],
         "range": [
          230.40035772064576,
          230.40688705525895
         ],
         "type": "linear"
        },
        "xaxis11": {
         "anchor": "y11",
         "autorange": true,
         "domain": [
          0.525,
          0.7375
         ],
         "range": [
          260.34084972955566,
          260.34746879352105
         ],
         "type": "linear"
        },
        "xaxis12": {
         "anchor": "y12",
         "autorange": true,
         "domain": [
          0.7875,
          1
         ],
         "range": [
          290.40546777530653,
          290.4122509789793
         ],
         "type": "linear"
        },
        "xaxis2": {
         "anchor": "y2",
         "autorange": true,
         "domain": [
          0.2625,
          0.475
         ],
         "range": [
          171.6486317760469,
          171.65532818244262
         ],
         "type": "linear"
        },
        "xaxis3": {
         "anchor": "y3",
         "autorange": true,
         "domain": [
          0.525,
          0.7375
         ],
         "range": [
          200.79577817476016,
          200.80236484358926
         ],
         "type": "linear"
        },
        "xaxis4": {
         "anchor": "y4",
         "autorange": true,
         "domain": [
          0.7875,
          1
         ],
         "range": [
          230.40035772064576,
          230.40688705525895
         ],
         "type": "linear"
        },
        "xaxis5": {
         "anchor": "y5",
         "autorange": true,
         "domain": [
          0,
          0.2125
         ],
         "range": [
          171.6486317760469,
          171.65532818244262
         ],
         "type": "linear"
        },
        "xaxis6": {
         "anchor": "y6",
         "autorange": true,
         "domain": [
          0.2625,
          0.475
         ],
         "range": [
          200.79577817476016,
          200.80236484358926
         ],
         "type": "linear"
        },
        "xaxis7": {
         "anchor": "y7",
         "autorange": true,
         "domain": [
          0.525,
          0.7375
         ],
         "range": [
          230.40035772064576,
          230.40688705525895
         ],
         "type": "linear"
        },
        "xaxis8": {
         "anchor": "y8",
         "autorange": true,
         "domain": [
          0.7875,
          1
         ],
         "range": [
          260.34084972955566,
          260.34746879352105
         ],
         "type": "linear"
        },
        "xaxis9": {
         "anchor": "y9",
         "autorange": true,
         "domain": [
          0,
          0.2125
         ],
         "range": [
          200.79577817476016,
          200.80236484358926
         ],
         "type": "linear"
        },
        "yaxis": {
         "anchor": "x",
         "autorange": true,
         "domain": [
          0.7333333333333333,
          1
         ],
         "range": [
          -0.4544726043690169,
          4.972566074307804
         ],
         "type": "linear"
        },
        "yaxis10": {
         "anchor": "x10",
         "autorange": true,
         "domain": [
          0,
          0.26666666666666666
         ],
         "range": [
          -2.515641865569623,
          0.23198948474089157
         ],
         "type": "linear"
        },
        "yaxis11": {
         "anchor": "x11",
         "autorange": true,
         "domain": [
          0,
          0.26666666666666666
         ],
         "range": [
          -4.699855551172492,
          0.43143766527206184
         ],
         "type": "linear"
        },
        "yaxis12": {
         "anchor": "x12",
         "autorange": true,
         "domain": [
          0,
          0.26666666666666666
         ],
         "range": [
          -5.496832475729181,
          0.5036474237665435
         ],
         "type": "linear"
        },
        "yaxis2": {
         "anchor": "x2",
         "autorange": true,
         "domain": [
          0.7333333333333333,
          1
         ],
         "range": [
          -0.28505218402908333,
          3.1297160906558563
         ],
         "type": "linear"
        },
        "yaxis3": {
         "anchor": "x3",
         "autorange": true,
         "domain": [
          0.7333333333333333,
          1
         ],
         "range": [
          -0.033211907960773036,
          0.38247782476940523
         ],
         "type": "linear"
        },
        "yaxis4": {
         "anchor": "x4",
         "autorange": true,
         "domain": [
          0.7333333333333333,
          1
         ],
         "range": [
          -2.515641865569623,
          0.23198948474089148
         ],
         "type": "linear"
        },
        "yaxis5": {
         "anchor": "x5",
         "autorange": true,
         "domain": [
          0.36666666666666664,
          0.6333333333333333
         ],
         "range": [
          -0.2850521840290834,
          3.1297160906558563
         ],
         "type": "linear"
        },
        "yaxis6": {
         "anchor": "x6",
         "autorange": true,
         "domain": [
          0.36666666666666664,
          0.6333333333333333
         ],
         "range": [
          -0.03321190796077304,
          0.38247782476940523
         ],
         "type": "linear"
        },
        "yaxis7": {
         "anchor": "x7",
         "autorange": true,
         "domain": [
          0.36666666666666664,
          0.6333333333333333
         ],
         "range": [
          -2.515641865569623,
          0.23198948474089157
         ],
         "type": "linear"
        },
        "yaxis8": {
         "anchor": "x8",
         "autorange": true,
         "domain": [
          0.36666666666666664,
          0.6333333333333333
         ],
         "range": [
          -4.699855551172492,
          0.43143766527206184
         ],
         "type": "linear"
        },
        "yaxis9": {
         "anchor": "x9",
         "autorange": true,
         "domain": [
          0,
          0.26666666666666666
         ],
         "range": [
          -0.03321190796077304,
          0.38247782476940523
         ],
         "type": "linear"
        }
       }
      },
      "image/png": "[encoded data removed]",
      "text/html": [
       "<div>                            <div id=\"45c9488e-765a-4042-8245-fd7be5ecc8e4\" class=\"plotly-graph-div\" style=\"height:600px; width:800px;\"></div>            <script type=\"text/javascript\">                require([\"plotly\"], function(Plotly) {                    window.PLOTLYENV=window.PLOTLYENV || {};                                    if (document.getElementById(\"45c9488e-765a-4042-8245-fd7be5ecc8e4\")) {                    Plotly.newPlot(                        \"45c9488e-765a-4042-8245-fd7be5ecc8e4\",                        [{\"mode\":\"markers\",\"x\":[142.9651601211322,142.9595163782441],\"y\":[-0.0014117861044787583,4.519505256043266],\"type\":\"scatter\",\"xaxis\":\"x\",\"yaxis\":\"y\"},{\"mode\":\"markers\",\"x\":[171.65479408408308,171.64916587440644],\"y\":[1.9988902203933292e-05,2.844643917724569],\"type\":\"scatter\",\"xaxis\":\"x2\",\"yaxis\":\"y2\"},{\"mode\":\"markers\",\"x\":[200.80183949778308,200.79630352056634],\"y\":[0.0014907616912552353,0.34777515511737694],\"type\":\"scatter\",\"xaxis\":\"x3\",\"yaxis\":\"y3\"},{\"mode\":\"markers\",\"x\":[230.4063662823698,230.40087849353492],\"y\":[0.002611331835504824,-2.2862637126642364],\"type\":\"scatter\",\"xaxis\":\"x4\",\"yaxis\":\"y4\"},{\"mode\":\"markers\",\"x\":[171.65479408408308,171.64916587440644],\"y\":[1.9988902203933292e-05,2.844643917724569],\"type\":\"scatter\",\"xaxis\":\"x5\",\"yaxis\":\"y5\"},{\"mode\":\"markers\",\"x\":[200.80183949778308,200.79630352056634],\"y\":[0.0014907616912552353,0.34777515511737694],\"type\":\"scatter\",\"xaxis\":\"x6\",\"yaxis\":\"y6\"},{\"mode\":\"markers\",\"x\":[230.4063662823698,230.40087849353492],\"y\":[0.002611331835504824,-2.2862637126642364],\"type\":\"scatter\",\"xaxis\":\"x7\",\"yaxis\":\"y7\"},{\"mode\":\"markers\",\"x\":[260.3469408639127,260.341377659164],\"y\":[0.0030663119349495526,-4.271484197835379],\"type\":\"scatter\",\"xaxis\":\"x8\",\"yaxis\":\"y8\"},{\"mode\":\"markers\",\"x\":[200.80183949778308,200.79630352056634],\"y\":[0.0014907616912552353,0.34777515511737694],\"type\":\"scatter\",\"xaxis\":\"x9\",\"yaxis\":\"y9\"},{\"mode\":\"markers\",\"x\":[230.4063662823698,230.40087849353492],\"y\":[0.002611331835504824,-2.2862637126642364],\"type\":\"scatter\",\"xaxis\":\"x10\",\"yaxis\":\"y10\"},{\"mode\":\"markers\",\"x\":[260.3469408639127,260.341377659164],\"y\":[0.0030663119349495526,-4.271484197835379],\"type\":\"scatter\",\"xaxis\":\"x11\",\"yaxis\":\"y11\"},{\"mode\":\"markers\",\"x\":[290.41170995775985,290.40600879652595],\"y\":[0.002714503585427222,-4.995899555548065],\"type\":\"scatter\",\"xaxis\":\"x12\",\"yaxis\":\"y12\"},{\"mode\":\"markers\",\"x\":[142.9651601211322,142.9595163782441],\"y\":[-0.0014117861044787583,4.519505256043266],\"type\":\"scatter\",\"xaxis\":\"x\",\"yaxis\":\"y\"},{\"mode\":\"markers\",\"x\":[171.65479408408308,171.64916587440644],\"y\":[1.9988902203933292e-05,2.844643917724569],\"type\":\"scatter\",\"xaxis\":\"x2\",\"yaxis\":\"y2\"},{\"mode\":\"markers\",\"x\":[200.80183949778308,200.79630352056634],\"y\":[0.0014907616912552353,0.34777515511737694],\"type\":\"scatter\",\"xaxis\":\"x3\",\"yaxis\":\"y3\"},{\"mode\":\"markers\",\"x\":[230.4063662823698,230.40087849353492],\"y\":[0.002611331835504824,-2.2862637126642364],\"type\":\"scatter\",\"xaxis\":\"x4\",\"yaxis\":\"y4\"},{\"mode\":\"markers\",\"x\":[171.65479408408308,171.64916587440644],\"y\":[1.9988902203933292e-05,2.844643917724569],\"type\":\"scatter\",\"xaxis\":\"x5\",\"yaxis\":\"y5\"},{\"mode\":\"markers\",\"x\":[200.80183949778308,200.79630352056634],\"y\":[0.0014907616912552353,0.34777515511737694],\"type\":\"scatter\",\"xaxis\":\"x6\",\"yaxis\":\"y6\"},{\"mode\":\"markers\",\"x\":[230.4063662823698,230.40087849353492],\"y\":[0.002611331835504824,-2.2862637126642364],\"type\":\"scatter\",\"xaxis\":\"x7\",\"yaxis\":\"y7\"},{\"mode\":\"markers\",\"x\":[260.3469408639127,260.341377659164],\"y\":[0.0030663119349495526,-4.271484197835379],\"type\":\"scatter\",\"xaxis\":\"x8\",\"yaxis\":\"y8\"},{\"mode\":\"markers\",\"x\":[200.80183949778308,200.79630352056634],\"y\":[0.0014907616912552353,0.34777515511737694],\"type\":\"scatter\",\"xaxis\":\"x9\",\"yaxis\":\"y9\"},{\"mode\":\"markers\",\"x\":[230.4063662823698,230.40087849353492],\"y\":[0.002611331835504824,-2.2862637126642364],\"type\":\"scatter\",\"xaxis\":\"x10\",\"yaxis\":\"y10\"},{\"mode\":\"markers\",\"x\":[260.3469408639127,260.341377659164],\"y\":[0.0030663119349495526,-4.271484197835379],\"type\":\"scatter\",\"xaxis\":\"x11\",\"yaxis\":\"y11\"},{\"mode\":\"markers\",\"x\":[290.41170995775985,290.40600879652595],\"y\":[0.002714503585427222,-4.995899555548065],\"type\":\"scatter\",\"xaxis\":\"x12\",\"yaxis\":\"y12\"},{\"mode\":\"markers\",\"x\":[142.9651601211322,142.9595163782441],\"y\":[-0.0014117861044787583,4.519505256043266],\"type\":\"scatter\",\"xaxis\":\"x\",\"yaxis\":\"y\"},{\"mode\":\"markers\",\"x\":[171.65479408408308,171.64916587440644],\"y\":[1.9988902203933292e-05,2.844643917724569],\"type\":\"scatter\",\"xaxis\":\"x2\",\"yaxis\":\"y2\"},{\"mode\":\"markers\",\"x\":[200.80183949778308,200.79630352056634],\"y\":[0.0014907616912552353,0.34777515511737694],\"type\":\"scatter\",\"xaxis\":\"x3\",\"yaxis\":\"y3\"},{\"mode\":\"markers\",\"x\":[230.4063662823698,230.40087849353492],\"y\":[0.002611331835504824,-2.2862637126642364],\"type\":\"scatter\",\"xaxis\":\"x4\",\"yaxis\":\"y4\"},{\"mode\":\"markers\",\"x\":[171.65479408408308,171.64916587440644],\"y\":[1.9988902203933292e-05,2.844643917724569],\"type\":\"scatter\",\"xaxis\":\"x5\",\"yaxis\":\"y5\"},{\"mode\":\"markers\",\"x\":[200.80183949778308,200.79630352056634],\"y\":[0.0014907616912552353,0.34777515511737694],\"type\":\"scatter\",\"xaxis\":\"x6\",\"yaxis\":\"y6\"},{\"mode\":\"markers\",\"x\":[230.4063662823698,230.40087849353492],\"y\":[0.002611331835504824,-2.2862637126642364],\"type\":\"scatter\",\"xaxis\":\"x7\",\"yaxis\":\"y7\"},{\"mode\":\"markers\",\"x\":[260.3469408639127,260.341377659164],\"y\":[0.0030663119349495526,-4.271484197835379],\"type\":\"scatter\",\"xaxis\":\"x8\",\"yaxis\":\"y8\"},{\"mode\":\"markers\",\"x\":[200.80183949778308,200.79630352056634],\"y\":[0.0014907616912552353,0.34777515511737694],\"type\":\"scatter\",\"xaxis\":\"x9\",\"yaxis\":\"y9\"},{\"mode\":\"markers\",\"x\":[230.4063662823698,230.40087849353492],\"y\":[0.002611331835504824,-2.2862637126642364],\"type\":\"scatter\",\"xaxis\":\"x10\",\"yaxis\":\"y10\"},{\"mode\":\"markers\",\"x\":[260.3469408639127,260.341377659164],\"y\":[0.0030663119349495526,-4.271484197835379],\"type\":\"scatter\",\"xaxis\":\"x11\",\"yaxis\":\"y11\"},{\"mode\":\"markers\",\"x\":[290.41170995775985,290.40600879652595],\"y\":[0.002714503585427222,-4.995899555548065],\"type\":\"scatter\",\"xaxis\":\"x12\",\"yaxis\":\"y12\"},{\"mode\":\"markers\",\"x\":[142.9651601211322,142.9595163782441],\"y\":[-0.0014117861044787583,4.519505256043266],\"type\":\"scatter\",\"xaxis\":\"x\",\"yaxis\":\"y\"},{\"mode\":\"markers\",\"x\":[171.65479408408308,171.64916587440644],\"y\":[1.9988902203933292e-05,2.844643917724569],\"type\":\"scatter\",\"xaxis\":\"x2\",\"yaxis\":\"y2\"},{\"mode\":\"markers\",\"x\":[200.80183949778308,200.79630352056634],\"y\":[0.0014907616912552353,0.34777515511737694],\"type\":\"scatter\",\"xaxis\":\"x3\",\"yaxis\":\"y3\"},{\"mode\":\"markers\",\"x\":[230.4063662823698,230.40087849353492],\"y\":[0.002611331835504824,-2.2862637126642364],\"type\":\"scatter\",\"xaxis\":\"x4\",\"yaxis\":\"y4\"},{\"mode\":\"markers\",\"x\":[171.65479408408308,171.64916587440644],\"y\":[1.9988902203933292e-05,2.844643917724569],\"type\":\"scatter\",\"xaxis\":\"x5\",\"yaxis\":\"y5\"},{\"mode\":\"markers\",\"x\":[200.80183949778308,200.79630352056634],\"y\":[0.0014907616912552353,0.34777515511737694],\"type\":\"scatter\",\"xaxis\":\"x6\",\"yaxis\":\"y6\"},{\"mode\":\"markers\",\"x\":[230.4063662823698,230.40087849353492],\"y\":[0.002611331835504824,-2.2862637126642364],\"type\":\"scatter\",\"xaxis\":\"x7\",\"yaxis\":\"y7\"},{\"mode\":\"markers\",\"x\":[260.3469408639127,260.341377659164],\"y\":[0.0030663119349495526,-4.271484197835379],\"type\":\"scatter\",\"xaxis\":\"x8\",\"yaxis\":\"y8\"},{\"mode\":\"markers\",\"x\":[200.80183949778308,200.79630352056634],\"y\":[0.0014907616912552353,0.34777515511737694],\"type\":\"scatter\",\"xaxis\":\"x9\",\"yaxis\":\"y9\"},{\"mode\":\"markers\",\"x\":[230.4063662823698,230.40087849353492],\"y\":[0.002611331835504824,-2.2862637126642364],\"type\":\"scatter\",\"xaxis\":\"x10\",\"yaxis\":\"y10\"},{\"mode\":\"markers\",\"x\":[260.3469408639127,260.341377659164],\"y\":[0.0030663119349495526,-4.271484197835379],\"type\":\"scatter\",\"xaxis\":\"x11\",\"yaxis\":\"y11\"},{\"mode\":\"markers\",\"x\":[290.41170995775985,290.40600879652595],\"y\":[0.002714503585427222,-4.995899555548065],\"type\":\"scatter\",\"xaxis\":\"x12\",\"yaxis\":\"y12\"},{\"mode\":\"markers\",\"x\":[142.9651601211322,142.9595163782441],\"y\":[-0.0014117861044787583,4.519505256043266],\"type\":\"scatter\",\"xaxis\":\"x\",\"yaxis\":\"y\"},{\"mode\":\"markers\",\"x\":[171.65479408408308,171.64916587440644],\"y\":[1.9988902203933292e-05,2.844643917724569],\"type\":\"scatter\",\"xaxis\":\"x2\",\"yaxis\":\"y2\"},{\"mode\":\"markers\",\"x\":[200.80183949778308,200.79630352056634],\"y\":[0.0014907616912552353,0.34777515511737694],\"type\":\"scatter\",\"xaxis\":\"x3\",\"yaxis\":\"y3\"},{\"mode\":\"markers\",\"x\":[230.4063662823698,230.40087849353492],\"y\":[0.002611331835504824,-2.2862637126642364],\"type\":\"scatter\",\"xaxis\":\"x4\",\"yaxis\":\"y4\"},{\"mode\":\"markers\",\"x\":[171.65479408408308,171.64916587440644],\"y\":[1.9988902203933292e-05,2.844643917724569],\"type\":\"scatter\",\"xaxis\":\"x5\",\"yaxis\":\"y5\"},{\"mode\":\"markers\",\"x\":[200.80183949778308,200.79630352056634],\"y\":[0.0014907616912552353,0.34777515511737694],\"type\":\"scatter\",\"xaxis\":\"x6\",\"yaxis\":\"y6\"},{\"mode\":\"markers\",\"x\":[230.4063662823698,230.40087849353492],\"y\":[0.002611331835504824,-2.2862637126642364],\"type\":\"scatter\",\"xaxis\":\"x7\",\"yaxis\":\"y7\"},{\"mode\":\"markers\",\"x\":[260.3469408639127,260.341377659164],\"y\":[0.0030663119349495526,-4.271484197835379],\"type\":\"scatter\",\"xaxis\":\"x8\",\"yaxis\":\"y8\"},{\"mode\":\"markers\",\"x\":[200.80183949778308,200.79630352056634],\"y\":[0.0014907616912552353,0.34777515511737694],\"type\":\"scatter\",\"xaxis\":\"x9\",\"yaxis\":\"y9\"},{\"mode\":\"markers\",\"x\":[230.4063662823698,230.40087849353492],\"y\":[0.002611331835504824,-2.2862637126642364],\"type\":\"scatter\",\"xaxis\":\"x10\",\"yaxis\":\"y10\"},{\"mode\":\"markers\",\"x\":[260.3469408639127,260.341377659164],\"y\":[0.0030663119349495526,-4.271484197835379],\"type\":\"scatter\",\"xaxis\":\"x11\",\"yaxis\":\"y11\"},{\"mode\":\"markers\",\"x\":[290.41170995775985,290.40600879652595],\"y\":[0.002714503585427222,-4.995899555548065],\"type\":\"scatter\",\"xaxis\":\"x12\",\"yaxis\":\"y12\"},{\"mode\":\"markers\",\"x\":[142.9651601211322,142.9595163782441],\"y\":[-0.0014117861044787583,4.519505256043266],\"type\":\"scatter\",\"xaxis\":\"x\",\"yaxis\":\"y\"},{\"mode\":\"markers\",\"x\":[171.65479408408308,171.64916587440644],\"y\":[1.9988902203933292e-05,2.844643917724569],\"type\":\"scatter\",\"xaxis\":\"x2\",\"yaxis\":\"y2\"},{\"mode\":\"markers\",\"x\":[200.80183949778308,200.79630352056634],\"y\":[0.0014907616912552353,0.34777515511737694],\"type\":\"scatter\",\"xaxis\":\"x3\",\"yaxis\":\"y3\"},{\"mode\":\"markers\",\"x\":[230.4063662823698,230.40087849353492],\"y\":[0.002611331835504824,-2.2862637126642364],\"type\":\"scatter\",\"xaxis\":\"x4\",\"yaxis\":\"y4\"},{\"mode\":\"markers\",\"x\":[171.65479408408308,171.64916587440644],\"y\":[1.9988902203933292e-05,2.844643917724569],\"type\":\"scatter\",\"xaxis\":\"x5\",\"yaxis\":\"y5\"},{\"mode\":\"markers\",\"x\":[200.80183949778308,200.79630352056634],\"y\":[0.0014907616912552353,0.34777515511737694],\"type\":\"scatter\",\"xaxis\":\"x6\",\"yaxis\":\"y6\"},{\"mode\":\"markers\",\"x\":[230.4063662823698,230.40087849353492],\"y\":[0.002611331835504824,-2.2862637126642364],\"type\":\"scatter\",\"xaxis\":\"x7\",\"yaxis\":\"y7\"},{\"mode\":\"markers\",\"x\":[260.3469408639127,260.341377659164],\"y\":[0.0030663119349495526,-4.271484197835379],\"type\":\"scatter\",\"xaxis\":\"x8\",\"yaxis\":\"y8\"},{\"mode\":\"markers\",\"x\":[200.80183949778308,200.79630352056634],\"y\":[0.0014907616912552353,0.34777515511737694],\"type\":\"scatter\",\"xaxis\":\"x9\",\"yaxis\":\"y9\"},{\"mode\":\"markers\",\"x\":[230.4063662823698,230.40087849353492],\"y\":[0.002611331835504824,-2.2862637126642364],\"type\":\"scatter\",\"xaxis\":\"x10\",\"yaxis\":\"y10\"},{\"mode\":\"markers\",\"x\":[260.3469408639127,260.341377659164],\"y\":[0.0030663119349495526,-4.271484197835379],\"type\":\"scatter\",\"xaxis\":\"x11\",\"yaxis\":\"y11\"},{\"mode\":\"markers\",\"x\":[290.41170995775985,290.40600879652595],\"y\":[0.002714503585427222,-4.995899555548065],\"type\":\"scatter\",\"xaxis\":\"x12\",\"yaxis\":\"y12\"},{\"mode\":\"markers\",\"x\":[142.9651601211322,142.9595163782441],\"y\":[-0.0014117861044787583,4.519505256043266],\"type\":\"scatter\",\"xaxis\":\"x\",\"yaxis\":\"y\"},{\"mode\":\"markers\",\"x\":[171.65479408408308,171.64916587440644],\"y\":[1.9988902203933292e-05,2.844643917724569],\"type\":\"scatter\",\"xaxis\":\"x2\",\"yaxis\":\"y2\"},{\"mode\":\"markers\",\"x\":[200.80183949778308,200.79630352056634],\"y\":[0.0014907616912552353,0.34777515511737694],\"type\":\"scatter\",\"xaxis\":\"x3\",\"yaxis\":\"y3\"},{\"mode\":\"markers\",\"x\":[230.4063662823698,230.40087849353492],\"y\":[0.002611331835504824,-2.2862637126642364],\"type\":\"scatter\",\"xaxis\":\"x4\",\"yaxis\":\"y4\"},{\"mode\":\"markers\",\"x\":[171.65479408408308,171.64916587440644],\"y\":[1.9988902203933292e-05,2.844643917724569],\"type\":\"scatter\",\"xaxis\":\"x5\",\"yaxis\":\"y5\"},{\"mode\":\"markers\",\"x\":[200.80183949778308,200.79630352056634],\"y\":[0.0014907616912552353,0.34777515511737694],\"type\":\"scatter\",\"xaxis\":\"x6\",\"yaxis\":\"y6\"},{\"mode\":\"markers\",\"x\":[230.4063662823698,230.40087849353492],\"y\":[0.002611331835504824,-2.2862637126642364],\"type\":\"scatter\",\"xaxis\":\"x7\",\"yaxis\":\"y7\"},{\"mode\":\"markers\",\"x\":[260.3469408639127,260.341377659164],\"y\":[0.0030663119349495526,-4.271484197835379],\"type\":\"scatter\",\"xaxis\":\"x8\",\"yaxis\":\"y8\"},{\"mode\":\"markers\",\"x\":[200.80183949778308,200.79630352056634],\"y\":[0.0014907616912552353,0.34777515511737694],\"type\":\"scatter\",\"xaxis\":\"x9\",\"yaxis\":\"y9\"},{\"mode\":\"markers\",\"x\":[230.4063662823698,230.40087849353492],\"y\":[0.002611331835504824,-2.2862637126642364],\"type\":\"scatter\",\"xaxis\":\"x10\",\"yaxis\":\"y10\"},{\"mode\":\"markers\",\"x\":[260.3469408639127,260.341377659164],\"y\":[0.0030663119349495526,-4.271484197835379],\"type\":\"scatter\",\"xaxis\":\"x11\",\"yaxis\":\"y11\"},{\"mode\":\"markers\",\"x\":[290.41170995775985,290.40600879652595],\"y\":[0.002714503585427222,-4.995899555548065],\"type\":\"scatter\",\"xaxis\":\"x12\",\"yaxis\":\"y12\"},{\"mode\":\"markers\",\"x\":[142.9651601211322,142.9595163782441],\"y\":[-0.0014117861044787583,4.519505256043266],\"type\":\"scatter\",\"xaxis\":\"x\",\"yaxis\":\"y\"},{\"mode\":\"markers\",\"x\":[171.65479408408308,171.64916587440644],\"y\":[1.9988902203933292e-05,2.844643917724569],\"type\":\"scatter\",\"xaxis\":\"x2\",\"yaxis\":\"y2\"},{\"mode\":\"markers\",\"x\":[200.80183949778308,200.79630352056634],\"y\":[0.0014907616912552353,0.34777515511737694],\"type\":\"scatter\",\"xaxis\":\"x3\",\"yaxis\":\"y3\"},{\"mode\":\"markers\",\"x\":[230.4063662823698,230.40087849353492],\"y\":[0.002611331835504824,-2.2862637126642364],\"type\":\"scatter\",\"xaxis\":\"x4\",\"yaxis\":\"y4\"},{\"mode\":\"markers\",\"x\":[171.65479408408308,171.64916587440644],\"y\":[1.9988902203933292e-05,2.844643917724569],\"type\":\"scatter\",\"xaxis\":\"x5\",\"yaxis\":\"y5\"},{\"mode\":\"markers\",\"x\":[200.80183949778308,200.79630352056634],\"y\":[0.0014907616912552353,0.34777515511737694],\"type\":\"scatter\",\"xaxis\":\"x6\",\"yaxis\":\"y6\"},{\"mode\":\"markers\",\"x\":[230.4063662823698,230.40087849353492],\"y\":[0.002611331835504824,-2.2862637126642364],\"type\":\"scatter\",\"xaxis\":\"x7\",\"yaxis\":\"y7\"},{\"mode\":\"markers\",\"x\":[260.3469408639127,260.341377659164],\"y\":[0.0030663119349495526,-4.271484197835379],\"type\":\"scatter\",\"xaxis\":\"x8\",\"yaxis\":\"y8\"},{\"mode\":\"markers\",\"x\":[200.80183949778308,200.79630352056634],\"y\":[0.0014907616912552353,0.34777515511737694],\"type\":\"scatter\",\"xaxis\":\"x9\",\"yaxis\":\"y9\"},{\"mode\":\"markers\",\"x\":[230.4063662823698,230.40087849353492],\"y\":[0.002611331835504824,-2.2862637126642364],\"type\":\"scatter\",\"xaxis\":\"x10\",\"yaxis\":\"y10\"},{\"mode\":\"markers\",\"x\":[260.3469408639127,260.341377659164],\"y\":[0.0030663119349495526,-4.271484197835379],\"type\":\"scatter\",\"xaxis\":\"x11\",\"yaxis\":\"y11\"},{\"mode\":\"markers\",\"x\":[290.41170995775985,290.40600879652595],\"y\":[0.002714503585427222,-4.995899555548065],\"type\":\"scatter\",\"xaxis\":\"x12\",\"yaxis\":\"y12\"},{\"mode\":\"markers\",\"x\":[142.9651601211322,142.9595163782441],\"y\":[-0.0014117861044787583,4.519505256043266],\"type\":\"scatter\",\"xaxis\":\"x\",\"yaxis\":\"y\"},{\"mode\":\"markers\",\"x\":[171.65479408408308,171.64916587440644],\"y\":[1.9988902203933292e-05,2.844643917724569],\"type\":\"scatter\",\"xaxis\":\"x2\",\"yaxis\":\"y2\"},{\"mode\":\"markers\",\"x\":[200.80183949778308,200.79630352056634],\"y\":[0.0014907616912552353,0.34777515511737694],\"type\":\"scatter\",\"xaxis\":\"x3\",\"yaxis\":\"y3\"},{\"mode\":\"markers\",\"x\":[230.4063662823698,230.40087849353492],\"y\":[0.002611331835504824,-2.2862637126642364],\"type\":\"scatter\",\"xaxis\":\"x4\",\"yaxis\":\"y4\"},{\"mode\":\"markers\",\"x\":[171.65479408408308,171.64916587440644],\"y\":[1.9988902203933292e-05,2.844643917724569],\"type\":\"scatter\",\"xaxis\":\"x5\",\"yaxis\":\"y5\"},{\"mode\":\"markers\",\"x\":[200.80183949778308,200.79630352056634],\"y\":[0.0014907616912552353,0.34777515511737694],\"type\":\"scatter\",\"xaxis\":\"x6\",\"yaxis\":\"y6\"},{\"mode\":\"markers\",\"x\":[230.4063662823698,230.40087849353492],\"y\":[0.002611331835504824,-2.2862637126642364],\"type\":\"scatter\",\"xaxis\":\"x7\",\"yaxis\":\"y7\"},{\"mode\":\"markers\",\"x\":[260.3469408639127,260.341377659164],\"y\":[0.0030663119349495526,-4.271484197835379],\"type\":\"scatter\",\"xaxis\":\"x8\",\"yaxis\":\"y8\"},{\"mode\":\"markers\",\"x\":[200.80183949778308,200.79630352056634],\"y\":[0.0014907616912552353,0.34777515511737694],\"type\":\"scatter\",\"xaxis\":\"x9\",\"yaxis\":\"y9\"},{\"mode\":\"markers\",\"x\":[230.4063662823698,230.40087849353492],\"y\":[0.002611331835504824,-2.2862637126642364],\"type\":\"scatter\",\"xaxis\":\"x10\",\"yaxis\":\"y10\"},{\"mode\":\"markers\",\"x\":[260.3469408639127,260.341377659164],\"y\":[0.0030663119349495526,-4.271484197835379],\"type\":\"scatter\",\"xaxis\":\"x11\",\"yaxis\":\"y11\"},{\"mode\":\"markers\",\"x\":[290.41170995775985,290.40600879652595],\"y\":[0.002714503585427222,-4.995899555548065],\"type\":\"scatter\",\"xaxis\":\"x12\",\"yaxis\":\"y12\"},{\"mode\":\"markers\",\"x\":[142.9651601211322,142.9595163782441],\"y\":[-0.0014117861044787583,4.519505256043266],\"type\":\"scatter\",\"xaxis\":\"x\",\"yaxis\":\"y\"},{\"mode\":\"markers\",\"x\":[171.65479408408308,171.64916587440644],\"y\":[1.9988902203933292e-05,2.844643917724569],\"type\":\"scatter\",\"xaxis\":\"x2\",\"yaxis\":\"y2\"},{\"mode\":\"markers\",\"x\":[200.80183949778308,200.79630352056634],\"y\":[0.0014907616912552353,0.34777515511737694],\"type\":\"scatter\",\"xaxis\":\"x3\",\"yaxis\":\"y3\"},{\"mode\":\"markers\",\"x\":[230.4063662823698,230.40087849353492],\"y\":[0.002611331835504824,-2.2862637126642364],\"type\":\"scatter\",\"xaxis\":\"x4\",\"yaxis\":\"y4\"},{\"mode\":\"markers\",\"x\":[171.65479408408308,171.64916587440644],\"y\":[1.9988902203933292e-05,2.844643917724569],\"type\":\"scatter\",\"xaxis\":\"x5\",\"yaxis\":\"y5\"},{\"mode\":\"markers\",\"x\":[200.80183949778308,200.79630352056634],\"y\":[0.0014907616912552353,0.34777515511737694],\"type\":\"scatter\",\"xaxis\":\"x6\",\"yaxis\":\"y6\"},{\"mode\":\"markers\",\"x\":[230.4063662823698,230.40087849353492],\"y\":[0.002611331835504824,-2.2862637126642364],\"type\":\"scatter\",\"xaxis\":\"x7\",\"yaxis\":\"y7\"},{\"mode\":\"markers\",\"x\":[260.3469408639127,260.341377659164],\"y\":[0.0030663119349495526,-4.271484197835379],\"type\":\"scatter\",\"xaxis\":\"x8\",\"yaxis\":\"y8\"},{\"mode\":\"markers\",\"x\":[200.80183949778308,200.79630352056634],\"y\":[0.0014907616912552353,0.34777515511737694],\"type\":\"scatter\",\"xaxis\":\"x9\",\"yaxis\":\"y9\"},{\"mode\":\"markers\",\"x\":[230.4063662823698,230.40087849353492],\"y\":[0.002611331835504824,-2.2862637126642364],\"type\":\"scatter\",\"xaxis\":\"x10\",\"yaxis\":\"y10\"},{\"mode\":\"markers\",\"x\":[260.3469408639127,260.341377659164],\"y\":[0.0030663119349495526,-4.271484197835379],\"type\":\"scatter\",\"xaxis\":\"x11\",\"yaxis\":\"y11\"},{\"mode\":\"markers\",\"x\":[290.41170995775985,290.40600879652595],\"y\":[0.002714503585427222,-4.995899555548065],\"type\":\"scatter\",\"xaxis\":\"x12\",\"yaxis\":\"y12\"},{\"mode\":\"markers\",\"x\":[142.9651601211322,142.9595163782441],\"y\":[-0.0014117861044787583,4.519505256043266],\"type\":\"scatter\",\"xaxis\":\"x\",\"yaxis\":\"y\"},{\"mode\":\"markers\",\"x\":[171.65479408408308,171.64916587440644],\"y\":[1.9988902203933292e-05,2.844643917724569],\"type\":\"scatter\",\"xaxis\":\"x2\",\"yaxis\":\"y2\"},{\"mode\":\"markers\",\"x\":[200.80183949778308,200.79630352056634],\"y\":[0.0014907616912552353,0.34777515511737694],\"type\":\"scatter\",\"xaxis\":\"x3\",\"yaxis\":\"y3\"},{\"mode\":\"markers\",\"x\":[230.4063662823698,230.40087849353492],\"y\":[0.002611331835504824,-2.2862637126642364],\"type\":\"scatter\",\"xaxis\":\"x4\",\"yaxis\":\"y4\"},{\"mode\":\"markers\",\"x\":[171.65479408408308,171.64916587440644],\"y\":[1.9988902203933292e-05,2.844643917724569],\"type\":\"scatter\",\"xaxis\":\"x5\",\"yaxis\":\"y5\"},{\"mode\":\"markers\",\"x\":[200.80183949778308,200.79630352056634],\"y\":[0.0014907616912552353,0.34777515511737694],\"type\":\"scatter\",\"xaxis\":\"x6\",\"yaxis\":\"y6\"},{\"mode\":\"markers\",\"x\":[230.4063662823698,230.40087849353492],\"y\":[0.002611331835504824,-2.2862637126642364],\"type\":\"scatter\",\"xaxis\":\"x7\",\"yaxis\":\"y7\"},{\"mode\":\"markers\",\"x\":[260.3469408639127,260.341377659164],\"y\":[0.0030663119349495526,-4.271484197835379],\"type\":\"scatter\",\"xaxis\":\"x8\",\"yaxis\":\"y8\"},{\"mode\":\"markers\",\"x\":[200.80183949778308,200.79630352056634],\"y\":[0.0014907616912552353,0.34777515511737694],\"type\":\"scatter\",\"xaxis\":\"x9\",\"yaxis\":\"y9\"},{\"mode\":\"markers\",\"x\":[230.4063662823698,230.40087849353492],\"y\":[0.002611331835504824,-2.2862637126642364],\"type\":\"scatter\",\"xaxis\":\"x10\",\"yaxis\":\"y10\"},{\"mode\":\"markers\",\"x\":[260.3469408639127,260.341377659164],\"y\":[0.0030663119349495526,-4.271484197835379],\"type\":\"scatter\",\"xaxis\":\"x11\",\"yaxis\":\"y11\"},{\"mode\":\"markers\",\"x\":[290.41170995775985,290.40600879652595],\"y\":[0.002714503585427222,-4.995899555548065],\"type\":\"scatter\",\"xaxis\":\"x12\",\"yaxis\":\"y12\"},{\"mode\":\"markers\",\"x\":[142.9651601211322,142.9595163782441],\"y\":[-0.0014117861044787583,4.519505256043266],\"type\":\"scatter\",\"xaxis\":\"x\",\"yaxis\":\"y\"},{\"mode\":\"markers\",\"x\":[171.65479408408308,171.64916587440644],\"y\":[1.9988902203933292e-05,2.844643917724569],\"type\":\"scatter\",\"xaxis\":\"x2\",\"yaxis\":\"y2\"},{\"mode\":\"markers\",\"x\":[200.80183949778308,200.79630352056634],\"y\":[0.0014907616912552353,0.34777515511737694],\"type\":\"scatter\",\"xaxis\":\"x3\",\"yaxis\":\"y3\"},{\"mode\":\"markers\",\"x\":[230.4063662823698,230.40087849353492],\"y\":[0.002611331835504824,-2.2862637126642364],\"type\":\"scatter\",\"xaxis\":\"x4\",\"yaxis\":\"y4\"},{\"mode\":\"markers\",\"x\":[171.65479408408308,171.64916587440644],\"y\":[1.9988902203933292e-05,2.844643917724569],\"type\":\"scatter\",\"xaxis\":\"x5\",\"yaxis\":\"y5\"},{\"mode\":\"markers\",\"x\":[200.80183949778308,200.79630352056634],\"y\":[0.0014907616912552353,0.34777515511737694],\"type\":\"scatter\",\"xaxis\":\"x6\",\"yaxis\":\"y6\"},{\"mode\":\"markers\",\"x\":[230.4063662823698,230.40087849353492],\"y\":[0.002611331835504824,-2.2862637126642364],\"type\":\"scatter\",\"xaxis\":\"x7\",\"yaxis\":\"y7\"},{\"mode\":\"markers\",\"x\":[260.3469408639127,260.341377659164],\"y\":[0.0030663119349495526,-4.271484197835379],\"type\":\"scatter\",\"xaxis\":\"x8\",\"yaxis\":\"y8\"},{\"mode\":\"markers\",\"x\":[200.80183949778308,200.79630352056634],\"y\":[0.0014907616912552353,0.34777515511737694],\"type\":\"scatter\",\"xaxis\":\"x9\",\"yaxis\":\"y9\"},{\"mode\":\"markers\",\"x\":[230.4063662823698,230.40087849353492],\"y\":[0.002611331835504824,-2.2862637126642364],\"type\":\"scatter\",\"xaxis\":\"x10\",\"yaxis\":\"y10\"},{\"mode\":\"markers\",\"x\":[260.3469408639127,260.341377659164],\"y\":[0.0030663119349495526,-4.271484197835379],\"type\":\"scatter\",\"xaxis\":\"x11\",\"yaxis\":\"y11\"},{\"mode\":\"markers\",\"x\":[290.41170995775985,290.40600879652595],\"y\":[0.002714503585427222,-4.995899555548065],\"type\":\"scatter\",\"xaxis\":\"x12\",\"yaxis\":\"y12\"}],                        {\"template\":{\"data\":{\"histogram2dcontour\":[{\"type\":\"histogram2dcontour\",\"colorbar\":{\"outlinewidth\":0,\"ticks\":\"\"},\"colorscale\":[[0.0,\"#0d0887\"],[0.1111111111111111,\"#46039f\"],[0.2222222222222222,\"#7201a8\"],[0.3333333333333333,\"#9c179e\"],[0.4444444444444444,\"#bd3786\"],[0.5555555555555556,\"#d8576b\"],[0.6666666666666666,\"#ed7953\"],[0.7777777777777778,\"#fb9f3a\"],[0.8888888888888888,\"#fdca26\"],[1.0,\"#f0f921\"]]}],\"choropleth\":[{\"type\":\"choropleth\",\"colorbar\":{\"outlinewidth\":0,\"ticks\":\"\"}}],\"histogram2d\":[{\"type\":\"histogram2d\",\"colorbar\":{\"outlinewidth\":0,\"ticks\":\"\"},\"colorscale\":[[0.0,\"#0d0887\"],[0.1111111111111111,\"#46039f\"],[0.2222222222222222,\"#7201a8\"],[0.3333333333333333,\"#9c179e\"],[0.4444444444444444,\"#bd3786\"],[0.5555555555555556,\"#d8576b\"],[0.6666666666666666,\"#ed7953\"],[0.7777777777777778,\"#fb9f3a\"],[0.8888888888888888,\"#fdca26\"],[1.0,\"#f0f921\"]]}],\"heatmap\":[{\"type\":\"heatmap\",\"colorbar\":{\"outlinewidth\":0,\"ticks\":\"\"},\"colorscale\":[[0.0,\"#0d0887\"],[0.1111111111111111,\"#46039f\"],[0.2222222222222222,\"#7201a8\"],[0.3333333333333333,\"#9c179e\"],[0.4444444444444444,\"#bd3786\"],[0.5555555555555556,\"#d8576b\"],[0.6666666666666666,\"#ed7953\"],[0.7777777777777778,\"#fb9f3a\"],[0.8888888888888888,\"#fdca26\"],[1.0,\"#f0f921\"]]}],\"heatmapgl\":[{\"type\":\"heatmapgl\",\"colorbar\":{\"outlinewidth\":0,\"ticks\":\"\"},\"colorscale\":[[0.0,\"#0d0887\"],[0.1111111111111111,\"#46039f\"],[0.2222222222222222,\"#7201a8\"],[0.3333333333333333,\"#9c179e\"],[0.4444444444444444,\"#bd3786\"],[0.5555555555555556,\"#d8576b\"],[0.6666666666666666,\"#ed7953\"],[0.7777777777777778,\"#fb9f3a\"],[0.8888888888888888,\"#fdca26\"],[1.0,\"#f0f921\"]]}],\"contourcarpet\":[{\"type\":\"contourcarpet\",\"colorbar\":{\"outlinewidth\":0,\"ticks\":\"\"}}],\"contour\":[{\"type\":\"contour\",\"colorbar\":{\"outlinewidth\":0,\"ticks\":\"\"},\"colorscale\":[[0.0,\"#0d0887\"],[0.1111111111111111,\"#46039f\"],[0.2222222222222222,\"#7201a8\"],[0.3333333333333333,\"#9c179e\"],[0.4444444444444444,\"#bd3786\"],[0.5555555555555556,\"#d8576b\"],[0.6666666666666666,\"#ed7953\"],[0.7777777777777778,\"#fb9f3a\"],[0.8888888888888888,\"#fdca26\"],[1.0,\"#f0f921\"]]}],\"surface\":[{\"type\":\"surface\",\"colorbar\":{\"outlinewidth\":0,\"ticks\":\"\"},\"colorscale\":[[0.0,\"#0d0887\"],[0.1111111111111111,\"#46039f\"],[0.2222222222222222,\"#7201a8\"],[0.3333333333333333,\"#9c179e\"],[0.4444444444444444,\"#bd3786\"],[0.5555555555555556,\"#d8576b\"],[0.6666666666666666,\"#ed7953\"],[0.7777777777777778,\"#fb9f3a\"],[0.8888888888888888,\"#fdca26\"],[1.0,\"#f0f921\"]]}],\"mesh3d\":[{\"type\":\"mesh3d\",\"colorbar\":{\"outlinewidth\":0,\"ticks\":\"\"}}],\"scatter\":[{\"fillpattern\":{\"fillmode\":\"overlay\",\"size\":10,\"solidity\":0.2},\"type\":\"scatter\"}],\"parcoords\":[{\"type\":\"parcoords\",\"line\":{\"colorbar\":{\"outlinewidth\":0,\"ticks\":\"\"}}}],\"scatterpolargl\":[{\"type\":\"scatterpolargl\",\"marker\":{\"colorbar\":{\"outlinewidth\":0,\"ticks\":\"\"}}}],\"bar\":[{\"error_x\":{\"color\":\"#2a3f5f\"},\"error_y\":{\"color\":\"#2a3f5f\"},\"marker\":{\"line\":{\"color\":\"#E5ECF6\",\"width\":0.5},\"pattern\":{\"fillmode\":\"overlay\",\"size\":10,\"solidity\":0.2}},\"type\":\"bar\"}],\"scattergeo\":[{\"type\":\"scattergeo\",\"marker\":{\"colorbar\":{\"outlinewidth\":0,\"ticks\":\"\"}}}],\"scatterpolar\":[{\"type\":\"scatterpolar\",\"marker\":{\"colorbar\":{\"outlinewidth\":0,\"ticks\":\"\"}}}],\"histogram\":[{\"marker\":{\"pattern\":{\"fillmode\":\"overlay\",\"size\":10,\"solidity\":0.2}},\"type\":\"histogram\"}],\"scattergl\":[{\"type\":\"scattergl\",\"marker\":{\"colorbar\":{\"outlinewidth\":0,\"ticks\":\"\"}}}],\"scatter3d\":[{\"type\":\"scatter3d\",\"line\":{\"colorbar\":{\"outlinewidth\":0,\"ticks\":\"\"}},\"marker\":{\"colorbar\":{\"outlinewidth\":0,\"ticks\":\"\"}}}],\"scattermapbox\":[{\"type\":\"scattermapbox\",\"marker\":{\"colorbar\":{\"outlinewidth\":0,\"ticks\":\"\"}}}],\"scatterternary\":[{\"type\":\"scatterternary\",\"marker\":{\"colorbar\":{\"outlinewidth\":0,\"ticks\":\"\"}}}],\"scattercarpet\":[{\"type\":\"scattercarpet\",\"marker\":{\"colorbar\":{\"outlinewidth\":0,\"ticks\":\"\"}}}],\"carpet\":[{\"aaxis\":{\"endlinecolor\":\"#2a3f5f\",\"gridcolor\":\"white\",\"linecolor\":\"white\",\"minorgridcolor\":\"white\",\"startlinecolor\":\"#2a3f5f\"},\"baxis\":{\"endlinecolor\":\"#2a3f5f\",\"gridcolor\":\"white\",\"linecolor\":\"white\",\"minorgridcolor\":\"white\",\"startlinecolor\":\"#2a3f5f\"},\"type\":\"carpet\"}],\"table\":[{\"cells\":{\"fill\":{\"color\":\"#EBF0F8\"},\"line\":{\"color\":\"white\"}},\"header\":{\"fill\":{\"color\":\"#C8D4E3\"},\"line\":{\"color\":\"white\"}},\"type\":\"table\"}],\"barpolar\":[{\"marker\":{\"line\":{\"color\":\"#E5ECF6\",\"width\":0.5},\"pattern\":{\"fillmode\":\"overlay\",\"size\":10,\"solidity\":0.2}},\"type\":\"barpolar\"}],\"pie\":[{\"automargin\":true,\"type\":\"pie\"}]},\"layout\":{\"autotypenumbers\":\"strict\",\"colorway\":[\"#636efa\",\"#EF553B\",\"#00cc96\",\"#ab63fa\",\"#FFA15A\",\"#19d3f3\",\"#FF6692\",\"#B6E880\",\"#FF97FF\",\"#FECB52\"],\"font\":{\"color\":\"#2a3f5f\"},\"hovermode\":\"closest\",\"hoverlabel\":{\"align\":\"left\"},\"paper_bgcolor\":\"white\",\"plot_bgcolor\":\"#E5ECF6\",\"polar\":{\"bgcolor\":\"#E5ECF6\",\"angularaxis\":{\"gridcolor\":\"white\",\"linecolor\":\"white\",\"ticks\":\"\"},\"radialaxis\":{\"gridcolor\":\"white\",\"linecolor\":\"white\",\"ticks\":\"\"}},\"ternary\":{\"bgcolor\":\"#E5ECF6\",\"aaxis\":{\"gridcolor\":\"white\",\"linecolor\":\"white\",\"ticks\":\"\"},\"baxis\":{\"gridcolor\":\"white\",\"linecolor\":\"white\",\"ticks\":\"\"},\"caxis\":{\"gridcolor\":\"white\",\"linecolor\":\"white\",\"ticks\":\"\"}},\"coloraxis\":{\"colorbar\":{\"outlinewidth\":0,\"ticks\":\"\"}},\"colorscale\":{\"sequential\":[[0.0,\"#0d0887\"],[0.1111111111111111,\"#46039f\"],[0.2222222222222222,\"#7201a8\"],[0.3333333333333333,\"#9c179e\"],[0.4444444444444444,\"#bd3786\"],[0.5555555555555556,\"#d8576b\"],[0.6666666666666666,\"#ed7953\"],[0.7777777777777778,\"#fb9f3a\"],[0.8888888888888888,\"#fdca26\"],[1.0,\"#f0f921\"]],\"sequentialminus\":[[0.0,\"#0d0887\"],[0.1111111111111111,\"#46039f\"],[0.2222222222222222,\"#7201a8\"],[0.3333333333333333,\"#9c179e\"],[0.4444444444444444,\"#bd3786\"],[0.5555555555555556,\"#d8576b\"],[0.6666666666666666,\"#ed7953\"],[0.7777777777777778,\"#fb9f3a\"],[0.8888888888888888,\"#fdca26\"],[1.0,\"#f0f921\"]],\"diverging\":[[0,\"#8e0152\"],[0.1,\"#c51b7d\"],[0.2,\"#de77ae\"],[0.3,\"#f1b6da\"],[0.4,\"#fde0ef\"],[0.5,\"#f7f7f7\"],[0.6,\"#e6f5d0\"],[0.7,\"#b8e186\"],[0.8,\"#7fbc41\"],[0.9,\"#4d9221\"],[1,\"#276419\"]]},\"xaxis\":{\"gridcolor\":\"white\",\"linecolor\":\"white\",\"ticks\":\"\",\"title\":{\"standoff\":15},\"zerolinecolor\":\"white\",\"automargin\":true,\"zerolinewidth\":2},\"yaxis\":{\"gridcolor\":\"white\",\"linecolor\":\"white\",\"ticks\":\"\",\"title\":{\"standoff\":15},\"zerolinecolor\":\"white\",\"automargin\":true,\"zerolinewidth\":2},\"scene\":{\"xaxis\":{\"backgroundcolor\":\"#E5ECF6\",\"gridcolor\":\"white\",\"linecolor\":\"white\",\"showbackground\":true,\"ticks\":\"\",\"zerolinecolor\":\"white\",\"gridwidth\":2},\"yaxis\":{\"backgroundcolor\":\"#E5ECF6\",\"gridcolor\":\"white\",\"linecolor\":\"white\",\"showbackground\":true,\"ticks\":\"\",\"zerolinecolor\":\"white\",\"gridwidth\":2},\"zaxis\":{\"backgroundcolor\":\"#E5ECF6\",\"gridcolor\":\"white\",\"linecolor\":\"white\",\"showbackground\":true,\"ticks\":\"\",\"zerolinecolor\":\"white\",\"gridwidth\":2}},\"shapedefaults\":{\"line\":{\"color\":\"#2a3f5f\"}},\"annotationdefaults\":{\"arrowcolor\":\"#2a3f5f\",\"arrowhead\":0,\"arrowwidth\":1},\"geo\":{\"bgcolor\":\"white\",\"landcolor\":\"#E5ECF6\",\"subunitcolor\":\"white\",\"showland\":true,\"showlakes\":true,\"lakecolor\":\"white\"},\"title\":{\"x\":0.05},\"mapbox\":{\"style\":\"light\"}}},\"xaxis\":{\"anchor\":\"y\",\"domain\":[0.0,0.2125]},\"yaxis\":{\"anchor\":\"x\",\"domain\":[0.7333333333333333,1.0]},\"xaxis2\":{\"anchor\":\"y2\",\"domain\":[0.2625,0.475]},\"yaxis2\":{\"anchor\":\"x2\",\"domain\":[0.7333333333333333,1.0]},\"xaxis3\":{\"anchor\":\"y3\",\"domain\":[0.525,0.7375]},\"yaxis3\":{\"anchor\":\"x3\",\"domain\":[0.7333333333333333,1.0]},\"xaxis4\":{\"anchor\":\"y4\",\"domain\":[0.7875,1.0]},\"yaxis4\":{\"anchor\":\"x4\",\"domain\":[0.7333333333333333,1.0]},\"xaxis5\":{\"anchor\":\"y5\",\"domain\":[0.0,0.2125]},\"yaxis5\":{\"anchor\":\"x5\",\"domain\":[0.36666666666666664,0.6333333333333333]},\"xaxis6\":{\"anchor\":\"y6\",\"domain\":[0.2625,0.475]},\"yaxis6\":{\"anchor\":\"x6\",\"domain\":[0.36666666666666664,0.6333333333333333]},\"xaxis7\":{\"anchor\":\"y7\",\"domain\":[0.525,0.7375]},\"yaxis7\":{\"anchor\":\"x7\",\"domain\":[0.36666666666666664,0.6333333333333333]},\"xaxis8\":{\"anchor\":\"y8\",\"domain\":[0.7875,1.0]},\"yaxis8\":{\"anchor\":\"x8\",\"domain\":[0.36666666666666664,0.6333333333333333]},\"xaxis9\":{\"anchor\":\"y9\",\"domain\":[0.0,0.2125]},\"yaxis9\":{\"anchor\":\"x9\",\"domain\":[0.0,0.26666666666666666]},\"xaxis10\":{\"anchor\":\"y10\",\"domain\":[0.2625,0.475]},\"yaxis10\":{\"anchor\":\"x10\",\"domain\":[0.0,0.26666666666666666]},\"xaxis11\":{\"anchor\":\"y11\",\"domain\":[0.525,0.7375]},\"yaxis11\":{\"anchor\":\"x11\",\"domain\":[0.0,0.26666666666666666]},\"xaxis12\":{\"anchor\":\"y12\",\"domain\":[0.7875,1.0]},\"yaxis12\":{\"anchor\":\"x12\",\"domain\":[0.0,0.26666666666666666]},\"title\":{\"text\":\"Side By Side Subplots\"},\"height\":600,\"width\":800},                        {\"responsive\": true}                    ).then(function(){\n",
       "                            \n",
       "var gd = document.getElementById('45c9488e-765a-4042-8245-fd7be5ecc8e4');\n",
       "var x = new MutationObserver(function (mutations, observer) {{\n",
       "        var display = window.getComputedStyle(gd).display;\n",
       "        if (!display || display === 'none') {{\n",
       "            console.log([gd, 'removed!']);\n",
       "            Plotly.purge(gd);\n",
       "            observer.disconnect();\n",
       "        }}\n",
       "}});\n",
       "\n",
       "// Listen for the removal of the full notebook cells\n",
       "var notebookContainer = gd.closest('#notebook-container');\n",
       "if (notebookContainer) {{\n",
       "    x.observe(notebookContainer, {childList: true});\n",
       "}}\n",
       "\n",
       "// Listen for the clearing of the current output cell\n",
       "var outputEl = gd.closest('.output');\n",
       "if (outputEl) {{\n",
       "    x.observe(outputEl, {childList: true});\n",
       "}}\n",
       "\n",
       "                        })                };                });            </script>        </div>"
      ]
     },
     "metadata": {},
     "output_type": "display_data"
    }
   ],
   "source": [
    "import plotly.graph_objects as go\n",
    "\n",
    "fig = make_subplots(rows=3, cols=4)\n",
    "\n",
    "for new in news:\n",
    "    for row in range(3):\n",
    "        for col in range(4):\n",
    "            fig.add_trace(go.Scatter(x=[e_lon_sun.degrees[(row+1) + col], e_lon_moon.degrees[(row+1) + col]],\n",
    "                                     y=[e_lat_sun.degrees[(row+1) + col], e_lat_moon.degrees[(row+1) + col]], mode=\"markers\"),\n",
    "                          row = row+1, col=col+1)\n",
    "\n",
    "#fig.add_trace(\n",
    "#    go.Scatter(x=[1, 2, 3], y=[4, 5, 6]),\n",
    "#    row=1, col=1\n",
    "#)\n",
    "\n",
    "#fig.add_trace(\n",
    "#    go.Scatter(x=[20, 30, 40], y=[50, 60, 70]),\n",
    "#    row=1, col=2\n",
    "#)\n",
    "\n",
    "fig.update_layout(height=600, width=800, title_text=\"Side By Side Subplots\")\n",
    "fig.show()"
   ]
  },
  {
   "cell_type": "code",
   "execution_count": null,
   "id": "6e0f3903-4f0b-4131-9ac2-9d2705609b36",
   "metadata": {},
   "outputs": [],
   "source": []
  }
 ],
 "metadata": {
  "kernelspec": {
   "display_name": "Python 3 (ipykernel)",
   "language": "python",
   "name": "python3"
  },
  "language_info": {
   "codemirror_mode": {
    "name": "ipython",
    "version": 3
   },
   "file_extension": ".py",
   "mimetype": "text/x-python",
   "name": "python",
   "nbconvert_exporter": "python",
   "pygments_lexer": "ipython3",
   "version": "3.11.5"
  }
 },
 "nbformat": 4,
 "nbformat_minor": 5
}
